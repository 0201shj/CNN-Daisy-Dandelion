{
  "nbformat": 4,
  "nbformat_minor": 0,
  "metadata": {
    "accelerator": "GPU",
    "colab": {
      "name": "pretrained.ipynb",
      "provenance": [],
      "collapsed_sections": [],
      "include_colab_link": true
    },
    "kernelspec": {
      "display_name": "Python 3",
      "language": "python",
      "name": "python3"
    },
    "language_info": {
      "codemirror_mode": {
        "name": "ipython",
        "version": 3
      },
      "file_extension": ".py",
      "mimetype": "text/x-python",
      "name": "python",
      "nbconvert_exporter": "python",
      "pygments_lexer": "ipython3",
      "version": "3.7.6"
    }
  },
  "cells": [
    {
      "cell_type": "markdown",
      "metadata": {
        "id": "view-in-github",
        "colab_type": "text"
      },
      "source": [
        "<a href=\"https://colab.research.google.com/github/0201shj/CNN-Daisy-Dandelion/blob/main/pretrained.ipynb\" target=\"_parent\"><img src=\"https://colab.research.google.com/assets/colab-badge.svg\" alt=\"Open In Colab\"/></a>"
      ]
    },
    {
      "cell_type": "code",
      "metadata": {
        "id": "6giq8ls1A3jN"
      },
      "source": [
        "%matplotlib inline"
      ],
      "execution_count": 1,
      "outputs": []
    },
    {
      "cell_type": "code",
      "metadata": {
        "id": "AEJfrotXA58E"
      },
      "source": [
        "!unzip flower.zip"
      ],
      "execution_count": null,
      "outputs": []
    },
    {
      "cell_type": "code",
      "metadata": {
        "id": "O5M05p_pA5rd"
      },
      "source": [
        ""
      ],
      "execution_count": null,
      "outputs": []
    },
    {
      "cell_type": "code",
      "metadata": {
        "id": "KPy5I5SBA3jW"
      },
      "source": [
        "import glob\n",
        "import numpy as np\n",
        "import matplotlib.pyplot as plt\n",
        "from tensorflow.keras.preprocessing.image import ImageDataGenerator, load_img, img_to_array, array_to_img"
      ],
      "execution_count": 4,
      "outputs": []
    },
    {
      "cell_type": "code",
      "metadata": {
        "colab": {
          "base_uri": "https://localhost:8080/"
        },
        "id": "eZImnfGOA3jX",
        "outputId": "39f371d6-9f89-4cc3-fc7b-908d9dad91d8"
      },
      "source": [
        "IMG_DIM = (150, 150)\n",
        "\n",
        "train_files = glob.glob('training_data/*')\n",
        "train_imgs = [img_to_array(load_img(img, target_size=IMG_DIM)) for img in train_files]\n",
        "train_imgs = np.array(train_imgs)\n",
        "train_labels = [fn.split('/')[1].split('.')[0].strip() for fn in train_files]\n",
        "\n",
        "validation_files = glob.glob('validation_data/*')\n",
        "validation_imgs = [img_to_array(load_img(img, target_size=IMG_DIM)) for img in validation_files]\n",
        "validation_imgs = np.array(validation_imgs)\n",
        "validation_labels = [fn.split('/')[1].split('.')[0].strip() for fn in validation_files]\n",
        "\n",
        "print('Train dataset shape:', train_imgs.shape, \n",
        "      '\\tValidation dataset shape:', validation_imgs.shape)"
      ],
      "execution_count": 9,
      "outputs": [
        {
          "output_type": "stream",
          "text": [
            "Train dataset shape: (1275, 150, 150, 3) \tValidation dataset shape: (364, 150, 150, 3)\n"
          ],
          "name": "stdout"
        }
      ]
    },
    {
      "cell_type": "code",
      "metadata": {
        "id": "OiDa5o60A3jX"
      },
      "source": [
        "train_imgs_scaled = train_imgs.astype('float32')\n",
        "validation_imgs_scaled = validation_imgs.astype('float32')\n",
        "train_imgs_scaled /= 255\n",
        "validation_imgs_scaled /= 255"
      ],
      "execution_count": 10,
      "outputs": []
    },
    {
      "cell_type": "code",
      "metadata": {
        "colab": {
          "base_uri": "https://localhost:8080/"
        },
        "id": "COLKZn79A3jY",
        "outputId": "740fb974-a1e8-47d1-f5a8-71f169c968ce"
      },
      "source": [
        "batch_size = 50\n",
        "num_classes = 2\n",
        "epochs = 100\n",
        "input_shape = (150, 150, 3)\n",
        "\n",
        "from sklearn.preprocessing import LabelEncoder\n",
        "\n",
        "le = LabelEncoder()\n",
        "le.fit(train_labels)\n",
        "# encode wine type labels\n",
        "train_labels_enc = le.transform(train_labels)\n",
        "validation_labels_enc = le.transform(validation_labels)\n",
        "\n",
        "print(train_labels[0:5], train_labels_enc[0:5])"
      ],
      "execution_count": 11,
      "outputs": [
        {
          "output_type": "stream",
          "text": [
            "['daisy', 'dandelion', 'dandelion', 'daisy', 'dandelion'] [0 1 1 0 1]\n"
          ],
          "name": "stdout"
        }
      ]
    },
    {
      "cell_type": "code",
      "metadata": {
        "colab": {
          "base_uri": "https://localhost:8080/"
        },
        "id": "9fVVMivMA3jZ",
        "outputId": "b1f07ef2-54aa-40b8-9d8f-775ee3ca46d9"
      },
      "source": [
        "from tensorflow.keras.applications import vgg16\n",
        "from tensorflow.keras.models import Model\n",
        "import tensorflow.keras\n",
        "\n",
        "vgg = vgg16.VGG16(include_top=False, weights='imagenet',\n",
        "                                     input_shape=input_shape)\n",
        "\n",
        "output = vgg.layers[-1].output\n",
        "output = tensorflow.keras.layers.Flatten()(output)\n",
        "\n",
        "vgg_model = Model(vgg.input, output)\n",
        "vgg_model.trainable = False\n",
        "\n",
        "for layer in vgg_model.layers:\n",
        "    layer.trainable = False\n",
        "\n",
        "vgg_model.summary()\n"
      ],
      "execution_count": 12,
      "outputs": [
        {
          "output_type": "stream",
          "text": [
            "Downloading data from https://storage.googleapis.com/tensorflow/keras-applications/vgg16/vgg16_weights_tf_dim_ordering_tf_kernels_notop.h5\n",
            "58892288/58889256 [==============================] - 1s 0us/step\n",
            "Model: \"model\"\n",
            "_________________________________________________________________\n",
            "Layer (type)                 Output Shape              Param #   \n",
            "=================================================================\n",
            "input_1 (InputLayer)         [(None, 150, 150, 3)]     0         \n",
            "_________________________________________________________________\n",
            "block1_conv1 (Conv2D)        (None, 150, 150, 64)      1792      \n",
            "_________________________________________________________________\n",
            "block1_conv2 (Conv2D)        (None, 150, 150, 64)      36928     \n",
            "_________________________________________________________________\n",
            "block1_pool (MaxPooling2D)   (None, 75, 75, 64)        0         \n",
            "_________________________________________________________________\n",
            "block2_conv1 (Conv2D)        (None, 75, 75, 128)       73856     \n",
            "_________________________________________________________________\n",
            "block2_conv2 (Conv2D)        (None, 75, 75, 128)       147584    \n",
            "_________________________________________________________________\n",
            "block2_pool (MaxPooling2D)   (None, 37, 37, 128)       0         \n",
            "_________________________________________________________________\n",
            "block3_conv1 (Conv2D)        (None, 37, 37, 256)       295168    \n",
            "_________________________________________________________________\n",
            "block3_conv2 (Conv2D)        (None, 37, 37, 256)       590080    \n",
            "_________________________________________________________________\n",
            "block3_conv3 (Conv2D)        (None, 37, 37, 256)       590080    \n",
            "_________________________________________________________________\n",
            "block3_pool (MaxPooling2D)   (None, 18, 18, 256)       0         \n",
            "_________________________________________________________________\n",
            "block4_conv1 (Conv2D)        (None, 18, 18, 512)       1180160   \n",
            "_________________________________________________________________\n",
            "block4_conv2 (Conv2D)        (None, 18, 18, 512)       2359808   \n",
            "_________________________________________________________________\n",
            "block4_conv3 (Conv2D)        (None, 18, 18, 512)       2359808   \n",
            "_________________________________________________________________\n",
            "block4_pool (MaxPooling2D)   (None, 9, 9, 512)         0         \n",
            "_________________________________________________________________\n",
            "block5_conv1 (Conv2D)        (None, 9, 9, 512)         2359808   \n",
            "_________________________________________________________________\n",
            "block5_conv2 (Conv2D)        (None, 9, 9, 512)         2359808   \n",
            "_________________________________________________________________\n",
            "block5_conv3 (Conv2D)        (None, 9, 9, 512)         2359808   \n",
            "_________________________________________________________________\n",
            "block5_pool (MaxPooling2D)   (None, 4, 4, 512)         0         \n",
            "_________________________________________________________________\n",
            "flatten (Flatten)            (None, 8192)              0         \n",
            "=================================================================\n",
            "Total params: 14,714,688\n",
            "Trainable params: 0\n",
            "Non-trainable params: 14,714,688\n",
            "_________________________________________________________________\n"
          ],
          "name": "stdout"
        }
      ]
    },
    {
      "cell_type": "code",
      "metadata": {
        "colab": {
          "base_uri": "https://localhost:8080/",
          "height": 694
        },
        "id": "T9SDjC3EA3jZ",
        "outputId": "ab8bc870-7c0d-453e-ac73-78b67ce7cf5b"
      },
      "source": [
        "import pandas as pd\n",
        "pd.set_option('max_colwidth', -1)\n",
        "\n",
        "layers = [(layer, layer.name, layer.trainable) for layer in vgg_model.layers]\n",
        "pd.DataFrame(layers, columns=['Layer Type', 'Layer Name', 'Layer Trainable'])"
      ],
      "execution_count": 13,
      "outputs": [
        {
          "output_type": "stream",
          "text": [
            "/usr/local/lib/python3.6/dist-packages/ipykernel_launcher.py:2: FutureWarning: Passing a negative integer is deprecated in version 1.0 and will not be supported in future version. Instead, use None to not limit the column width.\n",
            "  \n"
          ],
          "name": "stderr"
        },
        {
          "output_type": "execute_result",
          "data": {
            "text/html": [
              "<div>\n",
              "<style scoped>\n",
              "    .dataframe tbody tr th:only-of-type {\n",
              "        vertical-align: middle;\n",
              "    }\n",
              "\n",
              "    .dataframe tbody tr th {\n",
              "        vertical-align: top;\n",
              "    }\n",
              "\n",
              "    .dataframe thead th {\n",
              "        text-align: right;\n",
              "    }\n",
              "</style>\n",
              "<table border=\"1\" class=\"dataframe\">\n",
              "  <thead>\n",
              "    <tr style=\"text-align: right;\">\n",
              "      <th></th>\n",
              "      <th>Layer Type</th>\n",
              "      <th>Layer Name</th>\n",
              "      <th>Layer Trainable</th>\n",
              "    </tr>\n",
              "  </thead>\n",
              "  <tbody>\n",
              "    <tr>\n",
              "      <th>0</th>\n",
              "      <td>&lt;tensorflow.python.keras.engine.input_layer.InputLayer object at 0x7ff2cc226be0&gt;</td>\n",
              "      <td>input_1</td>\n",
              "      <td>False</td>\n",
              "    </tr>\n",
              "    <tr>\n",
              "      <th>1</th>\n",
              "      <td>&lt;tensorflow.python.keras.layers.convolutional.Conv2D object at 0x7ff2cc1eb198&gt;</td>\n",
              "      <td>block1_conv1</td>\n",
              "      <td>False</td>\n",
              "    </tr>\n",
              "    <tr>\n",
              "      <th>2</th>\n",
              "      <td>&lt;tensorflow.python.keras.layers.convolutional.Conv2D object at 0x7ff2cc1ebd30&gt;</td>\n",
              "      <td>block1_conv2</td>\n",
              "      <td>False</td>\n",
              "    </tr>\n",
              "    <tr>\n",
              "      <th>3</th>\n",
              "      <td>&lt;tensorflow.python.keras.layers.pooling.MaxPooling2D object at 0x7ff2cb9cc4e0&gt;</td>\n",
              "      <td>block1_pool</td>\n",
              "      <td>False</td>\n",
              "    </tr>\n",
              "    <tr>\n",
              "      <th>4</th>\n",
              "      <td>&lt;tensorflow.python.keras.layers.convolutional.Conv2D object at 0x7ff2cb9ca588&gt;</td>\n",
              "      <td>block2_conv1</td>\n",
              "      <td>False</td>\n",
              "    </tr>\n",
              "    <tr>\n",
              "      <th>5</th>\n",
              "      <td>&lt;tensorflow.python.keras.layers.convolutional.Conv2D object at 0x7ff2cb9ccb70&gt;</td>\n",
              "      <td>block2_conv2</td>\n",
              "      <td>False</td>\n",
              "    </tr>\n",
              "    <tr>\n",
              "      <th>6</th>\n",
              "      <td>&lt;tensorflow.python.keras.layers.pooling.MaxPooling2D object at 0x7ff2747868d0&gt;</td>\n",
              "      <td>block2_pool</td>\n",
              "      <td>False</td>\n",
              "    </tr>\n",
              "    <tr>\n",
              "      <th>7</th>\n",
              "      <td>&lt;tensorflow.python.keras.layers.convolutional.Conv2D object at 0x7ff27478e828&gt;</td>\n",
              "      <td>block3_conv1</td>\n",
              "      <td>False</td>\n",
              "    </tr>\n",
              "    <tr>\n",
              "      <th>8</th>\n",
              "      <td>&lt;tensorflow.python.keras.layers.convolutional.Conv2D object at 0x7ff27478ea20&gt;</td>\n",
              "      <td>block3_conv2</td>\n",
              "      <td>False</td>\n",
              "    </tr>\n",
              "    <tr>\n",
              "      <th>9</th>\n",
              "      <td>&lt;tensorflow.python.keras.layers.convolutional.Conv2D object at 0x7ff274792f60&gt;</td>\n",
              "      <td>block3_conv3</td>\n",
              "      <td>False</td>\n",
              "    </tr>\n",
              "    <tr>\n",
              "      <th>10</th>\n",
              "      <td>&lt;tensorflow.python.keras.layers.pooling.MaxPooling2D object at 0x7ff274799fd0&gt;</td>\n",
              "      <td>block3_pool</td>\n",
              "      <td>False</td>\n",
              "    </tr>\n",
              "    <tr>\n",
              "      <th>11</th>\n",
              "      <td>&lt;tensorflow.python.keras.layers.convolutional.Conv2D object at 0x7ff2cc1f8160&gt;</td>\n",
              "      <td>block4_conv1</td>\n",
              "      <td>False</td>\n",
              "    </tr>\n",
              "    <tr>\n",
              "      <th>12</th>\n",
              "      <td>&lt;tensorflow.python.keras.layers.convolutional.Conv2D object at 0x7ff2747a21d0&gt;</td>\n",
              "      <td>block4_conv2</td>\n",
              "      <td>False</td>\n",
              "    </tr>\n",
              "    <tr>\n",
              "      <th>13</th>\n",
              "      <td>&lt;tensorflow.python.keras.layers.convolutional.Conv2D object at 0x7ff2cc1f8a58&gt;</td>\n",
              "      <td>block4_conv3</td>\n",
              "      <td>False</td>\n",
              "    </tr>\n",
              "    <tr>\n",
              "      <th>14</th>\n",
              "      <td>&lt;tensorflow.python.keras.layers.pooling.MaxPooling2D object at 0x7ff2747adda0&gt;</td>\n",
              "      <td>block4_pool</td>\n",
              "      <td>False</td>\n",
              "    </tr>\n",
              "    <tr>\n",
              "      <th>15</th>\n",
              "      <td>&lt;tensorflow.python.keras.layers.convolutional.Conv2D object at 0x7ff2747ad860&gt;</td>\n",
              "      <td>block5_conv1</td>\n",
              "      <td>False</td>\n",
              "    </tr>\n",
              "    <tr>\n",
              "      <th>16</th>\n",
              "      <td>&lt;tensorflow.python.keras.layers.convolutional.Conv2D object at 0x7ff2747b58d0&gt;</td>\n",
              "      <td>block5_conv2</td>\n",
              "      <td>False</td>\n",
              "    </tr>\n",
              "    <tr>\n",
              "      <th>17</th>\n",
              "      <td>&lt;tensorflow.python.keras.layers.convolutional.Conv2D object at 0x7ff2747bbef0&gt;</td>\n",
              "      <td>block5_conv3</td>\n",
              "      <td>False</td>\n",
              "    </tr>\n",
              "    <tr>\n",
              "      <th>18</th>\n",
              "      <td>&lt;tensorflow.python.keras.layers.pooling.MaxPooling2D object at 0x7ff274741198&gt;</td>\n",
              "      <td>block5_pool</td>\n",
              "      <td>False</td>\n",
              "    </tr>\n",
              "    <tr>\n",
              "      <th>19</th>\n",
              "      <td>&lt;tensorflow.python.keras.layers.core.Flatten object at 0x7ff2747bb588&gt;</td>\n",
              "      <td>flatten</td>\n",
              "      <td>False</td>\n",
              "    </tr>\n",
              "  </tbody>\n",
              "</table>\n",
              "</div>"
            ],
            "text/plain": [
              "                                                                          Layer Type  ... Layer Trainable\n",
              "0   <tensorflow.python.keras.engine.input_layer.InputLayer object at 0x7ff2cc226be0>  ...  False         \n",
              "1   <tensorflow.python.keras.layers.convolutional.Conv2D object at 0x7ff2cc1eb198>    ...  False         \n",
              "2   <tensorflow.python.keras.layers.convolutional.Conv2D object at 0x7ff2cc1ebd30>    ...  False         \n",
              "3   <tensorflow.python.keras.layers.pooling.MaxPooling2D object at 0x7ff2cb9cc4e0>    ...  False         \n",
              "4   <tensorflow.python.keras.layers.convolutional.Conv2D object at 0x7ff2cb9ca588>    ...  False         \n",
              "5   <tensorflow.python.keras.layers.convolutional.Conv2D object at 0x7ff2cb9ccb70>    ...  False         \n",
              "6   <tensorflow.python.keras.layers.pooling.MaxPooling2D object at 0x7ff2747868d0>    ...  False         \n",
              "7   <tensorflow.python.keras.layers.convolutional.Conv2D object at 0x7ff27478e828>    ...  False         \n",
              "8   <tensorflow.python.keras.layers.convolutional.Conv2D object at 0x7ff27478ea20>    ...  False         \n",
              "9   <tensorflow.python.keras.layers.convolutional.Conv2D object at 0x7ff274792f60>    ...  False         \n",
              "10  <tensorflow.python.keras.layers.pooling.MaxPooling2D object at 0x7ff274799fd0>    ...  False         \n",
              "11  <tensorflow.python.keras.layers.convolutional.Conv2D object at 0x7ff2cc1f8160>    ...  False         \n",
              "12  <tensorflow.python.keras.layers.convolutional.Conv2D object at 0x7ff2747a21d0>    ...  False         \n",
              "13  <tensorflow.python.keras.layers.convolutional.Conv2D object at 0x7ff2cc1f8a58>    ...  False         \n",
              "14  <tensorflow.python.keras.layers.pooling.MaxPooling2D object at 0x7ff2747adda0>    ...  False         \n",
              "15  <tensorflow.python.keras.layers.convolutional.Conv2D object at 0x7ff2747ad860>    ...  False         \n",
              "16  <tensorflow.python.keras.layers.convolutional.Conv2D object at 0x7ff2747b58d0>    ...  False         \n",
              "17  <tensorflow.python.keras.layers.convolutional.Conv2D object at 0x7ff2747bbef0>    ...  False         \n",
              "18  <tensorflow.python.keras.layers.pooling.MaxPooling2D object at 0x7ff274741198>    ...  False         \n",
              "19  <tensorflow.python.keras.layers.core.Flatten object at 0x7ff2747bb588>            ...  False         \n",
              "\n",
              "[20 rows x 3 columns]"
            ]
          },
          "metadata": {
            "tags": []
          },
          "execution_count": 13
        }
      ]
    },
    {
      "cell_type": "code",
      "metadata": {
        "colab": {
          "base_uri": "https://localhost:8080/"
        },
        "id": "OvJvrtrgA3ja",
        "outputId": "231cb693-aba6-4342-828a-ab0a720afeaf"
      },
      "source": [
        "print(\"Trainable layers:\", vgg_model.trainable_weights)"
      ],
      "execution_count": 14,
      "outputs": [
        {
          "output_type": "stream",
          "text": [
            "Trainable layers: []\n"
          ],
          "name": "stdout"
        }
      ]
    },
    {
      "cell_type": "code",
      "metadata": {
        "colab": {
          "base_uri": "https://localhost:8080/",
          "height": 304
        },
        "id": "J_Zbyst4A3ja",
        "outputId": "9802ef10-6fa1-47e5-df18-d3e9af235c82"
      },
      "source": [
        "bottleneck_feature_example = vgg.predict(train_imgs_scaled[0:1])\n",
        "print(bottleneck_feature_example.shape)\n",
        "plt.imshow(bottleneck_feature_example[0][:,:,0])"
      ],
      "execution_count": 15,
      "outputs": [
        {
          "output_type": "stream",
          "text": [
            "(1, 4, 4, 512)\n"
          ],
          "name": "stdout"
        },
        {
          "output_type": "execute_result",
          "data": {
            "text/plain": [
              "<matplotlib.image.AxesImage at 0x7ff2741d55c0>"
            ]
          },
          "metadata": {
            "tags": []
          },
          "execution_count": 15
        },
        {
          "output_type": "display_data",
          "data": {
            "image/png": "[encoded data removed]",
            "text/plain": [
              "<Figure size 432x288 with 1 Axes>"
            ]
          },
          "metadata": {
            "tags": [],
            "needs_background": "light"
          }
        }
      ]
    },
    {
      "cell_type": "code",
      "metadata": {
        "id": "_8LY2OOaA3jb"
      },
      "source": [
        "def get_bottleneck_features(model, input_imgs):\n",
        "    \n",
        "    features = model.predict(input_imgs, verbose=0)\n",
        "    return features"
      ],
      "execution_count": 16,
      "outputs": []
    },
    {
      "cell_type": "code",
      "metadata": {
        "colab": {
          "base_uri": "https://localhost:8080/"
        },
        "id": "8sekjWocA3jb",
        "outputId": "bc814ef9-e930-4d11-e3b2-750d00ba7003"
      },
      "source": [
        "train_features_vgg = get_bottleneck_features(vgg_model, train_imgs_scaled)\n",
        "validation_features_vgg = get_bottleneck_features(vgg_model, validation_imgs_scaled)\n",
        "\n",
        "print('Train Bottleneck Features:', train_features_vgg.shape, \n",
        "      '\\tValidation Bottleneck Features:', validation_features_vgg.shape)"
      ],
      "execution_count": 17,
      "outputs": [
        {
          "output_type": "stream",
          "text": [
            "Train Bottleneck Features: (1275, 8192) \tValidation Bottleneck Features: (364, 8192)\n"
          ],
          "name": "stdout"
        }
      ]
    },
    {
      "cell_type": "code",
      "metadata": {
        "colab": {
          "base_uri": "https://localhost:8080/"
        },
        "id": "oXhFf4HLA3jc",
        "outputId": "4fc68885-35f7-481d-8b62-0d9128c580bd"
      },
      "source": [
        "from tensorflow.keras.layers import Conv2D, MaxPooling2D, Flatten, Dense, Dropout, InputLayer\n",
        "from tensorflow.keras.models import Sequential\n",
        "from tensorflow.keras import optimizers\n",
        "\n",
        "input_shape = vgg_model.output_shape[1]\n",
        "\n",
        "model = Sequential()\n",
        "model.add(InputLayer(input_shape=(input_shape,)))\n",
        "model.add(Dense(512, activation='relu', input_dim=input_shape))\n",
        "model.add(Dropout(0.3))\n",
        "model.add(Dense(64, activation='relu'))\n",
        "model.add(Dropout(0.3))\n",
        "model.add(Dense(1, activation='sigmoid'))\n",
        "\n",
        "model.compile(loss='binary_crossentropy',\n",
        "              optimizer=optimizers.RMSprop(lr=1e-4),\n",
        "              metrics=['accuracy'])\n",
        "\n",
        "model.summary()"
      ],
      "execution_count": 18,
      "outputs": [
        {
          "output_type": "stream",
          "text": [
            "Model: \"sequential\"\n",
            "_________________________________________________________________\n",
            "Layer (type)                 Output Shape              Param #   \n",
            "=================================================================\n",
            "dense (Dense)                (None, 512)               4194816   \n",
            "_________________________________________________________________\n",
            "dropout (Dropout)            (None, 512)               0         \n",
            "_________________________________________________________________\n",
            "dense_1 (Dense)              (None, 64)                32832     \n",
            "_________________________________________________________________\n",
            "dropout_1 (Dropout)          (None, 64)                0         \n",
            "_________________________________________________________________\n",
            "dense_2 (Dense)              (None, 1)                 65        \n",
            "=================================================================\n",
            "Total params: 4,227,713\n",
            "Trainable params: 4,227,713\n",
            "Non-trainable params: 0\n",
            "_________________________________________________________________\n"
          ],
          "name": "stdout"
        }
      ]
    },
    {
      "cell_type": "code",
      "metadata": {
        "colab": {
          "base_uri": "https://localhost:8080/"
        },
        "id": "UV-VPb-lA3jc",
        "outputId": "4e03cbef-0489-486f-c214-50d21e0a4a41"
      },
      "source": [
        "history = model.fit(x=train_features_vgg, y=train_labels_enc,\n",
        "                    validation_data=(validation_features_vgg, validation_labels_enc),\n",
        "                    batch_size=batch_size,\n",
        "                    epochs=epochs,\n",
        "                    verbose=1)"
      ],
      "execution_count": 19,
      "outputs": [
        {
          "output_type": "stream",
          "text": [
            "Epoch 1/100\n",
            "26/26 [==============================] - 1s 20ms/step - loss: 0.6023 - accuracy: 0.7009 - val_loss: 0.4289 - val_accuracy: 0.8077\n",
            "Epoch 2/100\n",
            "26/26 [==============================] - 0s 7ms/step - loss: 0.3466 - accuracy: 0.8434 - val_loss: 0.3211 - val_accuracy: 0.8681\n",
            "Epoch 3/100\n",
            "26/26 [==============================] - 0s 7ms/step - loss: 0.3055 - accuracy: 0.8591 - val_loss: 0.3292 - val_accuracy: 0.8516\n",
            "Epoch 4/100\n",
            "26/26 [==============================] - 0s 7ms/step - loss: 0.2763 - accuracy: 0.8755 - val_loss: 0.3806 - val_accuracy: 0.8132\n",
            "Epoch 5/100\n",
            "26/26 [==============================] - 0s 11ms/step - loss: 0.2066 - accuracy: 0.9204 - val_loss: 0.3343 - val_accuracy: 0.8654\n",
            "Epoch 6/100\n",
            "26/26 [==============================] - 0s 6ms/step - loss: 0.1738 - accuracy: 0.9292 - val_loss: 0.3961 - val_accuracy: 0.8516\n",
            "Epoch 7/100\n",
            "26/26 [==============================] - 0s 7ms/step - loss: 0.1717 - accuracy: 0.9201 - val_loss: 0.3097 - val_accuracy: 0.8819\n",
            "Epoch 8/100\n",
            "26/26 [==============================] - 0s 6ms/step - loss: 0.1679 - accuracy: 0.9292 - val_loss: 0.3046 - val_accuracy: 0.8654\n",
            "Epoch 9/100\n",
            "26/26 [==============================] - 0s 7ms/step - loss: 0.1283 - accuracy: 0.9528 - val_loss: 0.3168 - val_accuracy: 0.8736\n",
            "Epoch 10/100\n",
            "26/26 [==============================] - 0s 7ms/step - loss: 0.1014 - accuracy: 0.9679 - val_loss: 0.3366 - val_accuracy: 0.8654\n",
            "Epoch 11/100\n",
            "26/26 [==============================] - 0s 7ms/step - loss: 0.0933 - accuracy: 0.9727 - val_loss: 0.4599 - val_accuracy: 0.8214\n",
            "Epoch 12/100\n",
            "26/26 [==============================] - 0s 7ms/step - loss: 0.1035 - accuracy: 0.9602 - val_loss: 0.3340 - val_accuracy: 0.8681\n",
            "Epoch 13/100\n",
            "26/26 [==============================] - 0s 7ms/step - loss: 0.0847 - accuracy: 0.9702 - val_loss: 0.3617 - val_accuracy: 0.8654\n",
            "Epoch 14/100\n",
            "26/26 [==============================] - 0s 6ms/step - loss: 0.0730 - accuracy: 0.9742 - val_loss: 0.4106 - val_accuracy: 0.8489\n",
            "Epoch 15/100\n",
            "26/26 [==============================] - 0s 6ms/step - loss: 0.0758 - accuracy: 0.9783 - val_loss: 0.3751 - val_accuracy: 0.8681\n",
            "Epoch 16/100\n",
            "26/26 [==============================] - 0s 7ms/step - loss: 0.0485 - accuracy: 0.9827 - val_loss: 0.3927 - val_accuracy: 0.8791\n",
            "Epoch 17/100\n",
            "26/26 [==============================] - 0s 7ms/step - loss: 0.0390 - accuracy: 0.9913 - val_loss: 0.5611 - val_accuracy: 0.8104\n",
            "Epoch 18/100\n",
            "26/26 [==============================] - 0s 7ms/step - loss: 0.0358 - accuracy: 0.9894 - val_loss: 0.4100 - val_accuracy: 0.8681\n",
            "Epoch 19/100\n",
            "26/26 [==============================] - 0s 7ms/step - loss: 0.0346 - accuracy: 0.9901 - val_loss: 0.4610 - val_accuracy: 0.8791\n",
            "Epoch 20/100\n",
            "26/26 [==============================] - 0s 7ms/step - loss: 0.0200 - accuracy: 0.9985 - val_loss: 0.4376 - val_accuracy: 0.8764\n",
            "Epoch 21/100\n",
            "26/26 [==============================] - 0s 7ms/step - loss: 0.0172 - accuracy: 0.9990 - val_loss: 0.4702 - val_accuracy: 0.8819\n",
            "Epoch 22/100\n",
            "26/26 [==============================] - 0s 7ms/step - loss: 0.0143 - accuracy: 1.0000 - val_loss: 0.4773 - val_accuracy: 0.8736\n",
            "Epoch 23/100\n",
            "26/26 [==============================] - 0s 8ms/step - loss: 0.0282 - accuracy: 0.9868 - val_loss: 0.4721 - val_accuracy: 0.8764\n",
            "Epoch 24/100\n",
            "26/26 [==============================] - 0s 7ms/step - loss: 0.0097 - accuracy: 0.9996 - val_loss: 0.5096 - val_accuracy: 0.8736\n",
            "Epoch 25/100\n",
            "26/26 [==============================] - 0s 7ms/step - loss: 0.0105 - accuracy: 0.9995 - val_loss: 0.5448 - val_accuracy: 0.8709\n",
            "Epoch 26/100\n",
            "26/26 [==============================] - 0s 7ms/step - loss: 0.0150 - accuracy: 0.9920 - val_loss: 0.5982 - val_accuracy: 0.8462\n",
            "Epoch 27/100\n",
            "26/26 [==============================] - 0s 6ms/step - loss: 0.0204 - accuracy: 0.9922 - val_loss: 0.5523 - val_accuracy: 0.8709\n",
            "Epoch 28/100\n",
            "26/26 [==============================] - 0s 7ms/step - loss: 0.0176 - accuracy: 0.9934 - val_loss: 0.6499 - val_accuracy: 0.8544\n",
            "Epoch 29/100\n",
            "26/26 [==============================] - 0s 7ms/step - loss: 0.0080 - accuracy: 0.9992 - val_loss: 0.5694 - val_accuracy: 0.8736\n",
            "Epoch 30/100\n",
            "26/26 [==============================] - 0s 7ms/step - loss: 0.0043 - accuracy: 0.9995 - val_loss: 0.5752 - val_accuracy: 0.8681\n",
            "Epoch 31/100\n",
            "26/26 [==============================] - 0s 7ms/step - loss: 0.0046 - accuracy: 1.0000 - val_loss: 0.5718 - val_accuracy: 0.8654\n",
            "Epoch 32/100\n",
            "26/26 [==============================] - 0s 8ms/step - loss: 0.0042 - accuracy: 0.9998 - val_loss: 0.5826 - val_accuracy: 0.8654\n",
            "Epoch 33/100\n",
            "26/26 [==============================] - 0s 7ms/step - loss: 0.0022 - accuracy: 1.0000 - val_loss: 0.6177 - val_accuracy: 0.8709\n",
            "Epoch 34/100\n",
            "26/26 [==============================] - 0s 7ms/step - loss: 0.0035 - accuracy: 0.9999 - val_loss: 0.6346 - val_accuracy: 0.8791\n",
            "Epoch 35/100\n",
            "26/26 [==============================] - 0s 7ms/step - loss: 0.0019 - accuracy: 1.0000 - val_loss: 0.6844 - val_accuracy: 0.8764\n",
            "Epoch 36/100\n",
            "26/26 [==============================] - 0s 6ms/step - loss: 0.0031 - accuracy: 0.9990 - val_loss: 0.6977 - val_accuracy: 0.8819\n",
            "Epoch 37/100\n",
            "26/26 [==============================] - 0s 6ms/step - loss: 0.0079 - accuracy: 0.9969 - val_loss: 0.6768 - val_accuracy: 0.8791\n",
            "Epoch 38/100\n",
            "26/26 [==============================] - 0s 7ms/step - loss: 0.0012 - accuracy: 1.0000 - val_loss: 0.6877 - val_accuracy: 0.8764\n",
            "Epoch 39/100\n",
            "26/26 [==============================] - 0s 6ms/step - loss: 0.0014 - accuracy: 1.0000 - val_loss: 0.7065 - val_accuracy: 0.8764\n",
            "Epoch 40/100\n",
            "26/26 [==============================] - 0s 7ms/step - loss: 0.0011 - accuracy: 0.9999 - val_loss: 0.7390 - val_accuracy: 0.8791\n",
            "Epoch 41/100\n",
            "26/26 [==============================] - 0s 7ms/step - loss: 0.0012 - accuracy: 1.0000 - val_loss: 0.7634 - val_accuracy: 0.8764\n",
            "Epoch 42/100\n",
            "26/26 [==============================] - 0s 6ms/step - loss: 5.3178e-04 - accuracy: 1.0000 - val_loss: 0.7886 - val_accuracy: 0.8736\n",
            "Epoch 43/100\n",
            "26/26 [==============================] - 0s 6ms/step - loss: 0.0020 - accuracy: 1.0000 - val_loss: 0.7969 - val_accuracy: 0.8681\n",
            "Epoch 44/100\n",
            "26/26 [==============================] - 0s 7ms/step - loss: 6.2558e-04 - accuracy: 0.9999 - val_loss: 0.8230 - val_accuracy: 0.8764\n",
            "Epoch 45/100\n",
            "26/26 [==============================] - 0s 6ms/step - loss: 0.0011 - accuracy: 1.0000 - val_loss: 0.8212 - val_accuracy: 0.8764\n",
            "Epoch 46/100\n",
            "26/26 [==============================] - 0s 6ms/step - loss: 4.4259e-04 - accuracy: 1.0000 - val_loss: 0.8225 - val_accuracy: 0.8736\n",
            "Epoch 47/100\n",
            "26/26 [==============================] - 0s 7ms/step - loss: 3.0999e-04 - accuracy: 1.0000 - val_loss: 0.8402 - val_accuracy: 0.8709\n",
            "Epoch 48/100\n",
            "26/26 [==============================] - 0s 7ms/step - loss: 6.5933e-04 - accuracy: 1.0000 - val_loss: 0.8708 - val_accuracy: 0.8791\n",
            "Epoch 49/100\n",
            "26/26 [==============================] - 0s 6ms/step - loss: 0.0026 - accuracy: 0.9987 - val_loss: 0.8711 - val_accuracy: 0.8736\n",
            "Epoch 50/100\n",
            "26/26 [==============================] - 0s 6ms/step - loss: 4.5145e-04 - accuracy: 1.0000 - val_loss: 0.8799 - val_accuracy: 0.8791\n",
            "Epoch 51/100\n",
            "26/26 [==============================] - 0s 7ms/step - loss: 1.5181e-04 - accuracy: 1.0000 - val_loss: 0.8866 - val_accuracy: 0.8764\n",
            "Epoch 52/100\n",
            "26/26 [==============================] - 0s 7ms/step - loss: 2.3029e-04 - accuracy: 1.0000 - val_loss: 0.9102 - val_accuracy: 0.8681\n",
            "Epoch 53/100\n",
            "26/26 [==============================] - 0s 7ms/step - loss: 0.0014 - accuracy: 0.9992 - val_loss: 0.8893 - val_accuracy: 0.8736\n",
            "Epoch 54/100\n",
            "26/26 [==============================] - 0s 7ms/step - loss: 1.8869e-04 - accuracy: 1.0000 - val_loss: 0.9586 - val_accuracy: 0.8681\n",
            "Epoch 55/100\n",
            "26/26 [==============================] - 0s 6ms/step - loss: 1.6595e-04 - accuracy: 1.0000 - val_loss: 0.9579 - val_accuracy: 0.8736\n",
            "Epoch 56/100\n",
            "26/26 [==============================] - 0s 6ms/step - loss: 8.4929e-04 - accuracy: 1.0000 - val_loss: 0.9691 - val_accuracy: 0.8709\n",
            "Epoch 57/100\n",
            "26/26 [==============================] - 0s 6ms/step - loss: 1.1745e-04 - accuracy: 1.0000 - val_loss: 1.0028 - val_accuracy: 0.8819\n",
            "Epoch 58/100\n",
            "26/26 [==============================] - 0s 7ms/step - loss: 7.5777e-04 - accuracy: 0.9998 - val_loss: 1.0532 - val_accuracy: 0.8681\n",
            "Epoch 59/100\n",
            "26/26 [==============================] - 0s 10ms/step - loss: 2.5237e-04 - accuracy: 1.0000 - val_loss: 0.9822 - val_accuracy: 0.8681\n",
            "Epoch 60/100\n",
            "26/26 [==============================] - 0s 7ms/step - loss: 5.7233e-05 - accuracy: 1.0000 - val_loss: 0.9868 - val_accuracy: 0.8681\n",
            "Epoch 61/100\n",
            "26/26 [==============================] - 0s 6ms/step - loss: 1.2884e-04 - accuracy: 1.0000 - val_loss: 0.9619 - val_accuracy: 0.8736\n",
            "Epoch 62/100\n",
            "26/26 [==============================] - 0s 6ms/step - loss: 4.3366e-05 - accuracy: 1.0000 - val_loss: 0.9743 - val_accuracy: 0.8681\n",
            "Epoch 63/100\n",
            "26/26 [==============================] - 0s 6ms/step - loss: 1.7113e-04 - accuracy: 1.0000 - val_loss: 1.1106 - val_accuracy: 0.8709\n",
            "Epoch 64/100\n",
            "26/26 [==============================] - 0s 6ms/step - loss: 8.6461e-04 - accuracy: 1.0000 - val_loss: 1.0258 - val_accuracy: 0.8709\n",
            "Epoch 65/100\n",
            "26/26 [==============================] - 0s 6ms/step - loss: 3.1838e-05 - accuracy: 1.0000 - val_loss: 1.1415 - val_accuracy: 0.8736\n",
            "Epoch 66/100\n",
            "26/26 [==============================] - 0s 6ms/step - loss: 1.7689e-04 - accuracy: 1.0000 - val_loss: 1.0863 - val_accuracy: 0.8709\n",
            "Epoch 67/100\n",
            "26/26 [==============================] - 0s 6ms/step - loss: 3.0841e-05 - accuracy: 1.0000 - val_loss: 1.0284 - val_accuracy: 0.8764\n",
            "Epoch 68/100\n",
            "26/26 [==============================] - 0s 6ms/step - loss: 1.5260e-04 - accuracy: 1.0000 - val_loss: 1.0900 - val_accuracy: 0.8709\n",
            "Epoch 69/100\n",
            "26/26 [==============================] - 0s 6ms/step - loss: 4.1614e-05 - accuracy: 1.0000 - val_loss: 1.1029 - val_accuracy: 0.8736\n",
            "Epoch 70/100\n",
            "26/26 [==============================] - 0s 6ms/step - loss: 7.0722e-05 - accuracy: 1.0000 - val_loss: 1.1201 - val_accuracy: 0.8681\n",
            "Epoch 71/100\n",
            "26/26 [==============================] - 0s 6ms/step - loss: 3.2148e-04 - accuracy: 1.0000 - val_loss: 1.1420 - val_accuracy: 0.8709\n",
            "Epoch 72/100\n",
            "26/26 [==============================] - 0s 6ms/step - loss: 2.2230e-05 - accuracy: 1.0000 - val_loss: 1.1245 - val_accuracy: 0.8736\n",
            "Epoch 73/100\n",
            "26/26 [==============================] - 0s 7ms/step - loss: 2.4811e-04 - accuracy: 1.0000 - val_loss: 1.1290 - val_accuracy: 0.8709\n",
            "Epoch 74/100\n",
            "26/26 [==============================] - 0s 6ms/step - loss: 3.1863e-05 - accuracy: 1.0000 - val_loss: 1.1481 - val_accuracy: 0.8791\n",
            "Epoch 75/100\n",
            "26/26 [==============================] - 0s 6ms/step - loss: 4.5118e-04 - accuracy: 0.9997 - val_loss: 1.1501 - val_accuracy: 0.8791\n",
            "Epoch 76/100\n",
            "26/26 [==============================] - 0s 7ms/step - loss: 2.9431e-05 - accuracy: 1.0000 - val_loss: 1.1287 - val_accuracy: 0.8736\n",
            "Epoch 77/100\n",
            "26/26 [==============================] - 0s 7ms/step - loss: 7.8978e-06 - accuracy: 1.0000 - val_loss: 1.1413 - val_accuracy: 0.8736\n",
            "Epoch 78/100\n",
            "26/26 [==============================] - 0s 7ms/step - loss: 1.0632e-05 - accuracy: 1.0000 - val_loss: 1.1579 - val_accuracy: 0.8709\n",
            "Epoch 79/100\n",
            "26/26 [==============================] - 0s 7ms/step - loss: 1.7350e-05 - accuracy: 1.0000 - val_loss: 1.1970 - val_accuracy: 0.8709\n",
            "Epoch 80/100\n",
            "26/26 [==============================] - 0s 6ms/step - loss: 0.0031 - accuracy: 0.9985 - val_loss: 1.1577 - val_accuracy: 0.8819\n",
            "Epoch 81/100\n",
            "26/26 [==============================] - 0s 7ms/step - loss: 1.6913e-05 - accuracy: 1.0000 - val_loss: 1.1853 - val_accuracy: 0.8709\n",
            "Epoch 82/100\n",
            "26/26 [==============================] - 0s 6ms/step - loss: 6.7950e-06 - accuracy: 1.0000 - val_loss: 1.2035 - val_accuracy: 0.8709\n",
            "Epoch 83/100\n",
            "26/26 [==============================] - 0s 6ms/step - loss: 8.3290e-06 - accuracy: 1.0000 - val_loss: 1.2124 - val_accuracy: 0.8736\n",
            "Epoch 84/100\n",
            "26/26 [==============================] - 0s 6ms/step - loss: 1.5833e-05 - accuracy: 1.0000 - val_loss: 1.2383 - val_accuracy: 0.8764\n",
            "Epoch 85/100\n",
            "26/26 [==============================] - 0s 6ms/step - loss: 5.5228e-06 - accuracy: 1.0000 - val_loss: 1.3050 - val_accuracy: 0.8764\n",
            "Epoch 86/100\n",
            "26/26 [==============================] - 0s 7ms/step - loss: 2.1921e-05 - accuracy: 1.0000 - val_loss: 1.3041 - val_accuracy: 0.8764\n",
            "Epoch 87/100\n",
            "26/26 [==============================] - 0s 6ms/step - loss: 7.5671e-06 - accuracy: 1.0000 - val_loss: 1.3355 - val_accuracy: 0.8791\n",
            "Epoch 88/100\n",
            "26/26 [==============================] - 0s 6ms/step - loss: 1.6784e-05 - accuracy: 1.0000 - val_loss: 1.3412 - val_accuracy: 0.8764\n",
            "Epoch 89/100\n",
            "26/26 [==============================] - 0s 7ms/step - loss: 7.1187e-06 - accuracy: 1.0000 - val_loss: 1.4421 - val_accuracy: 0.8626\n",
            "Epoch 90/100\n",
            "26/26 [==============================] - 0s 7ms/step - loss: 2.1049e-05 - accuracy: 1.0000 - val_loss: 1.3278 - val_accuracy: 0.8791\n",
            "Epoch 91/100\n",
            "26/26 [==============================] - 0s 6ms/step - loss: 1.2413e-05 - accuracy: 1.0000 - val_loss: 1.3797 - val_accuracy: 0.8681\n",
            "Epoch 92/100\n",
            "26/26 [==============================] - 0s 6ms/step - loss: 6.7078e-06 - accuracy: 1.0000 - val_loss: 1.3457 - val_accuracy: 0.8736\n",
            "Epoch 93/100\n",
            "26/26 [==============================] - 0s 7ms/step - loss: 3.8036e-04 - accuracy: 1.0000 - val_loss: 1.3643 - val_accuracy: 0.8709\n",
            "Epoch 94/100\n",
            "26/26 [==============================] - 0s 6ms/step - loss: 3.3612e-06 - accuracy: 1.0000 - val_loss: 1.3525 - val_accuracy: 0.8791\n",
            "Epoch 95/100\n",
            "26/26 [==============================] - 0s 6ms/step - loss: 2.4535e-06 - accuracy: 1.0000 - val_loss: 1.3613 - val_accuracy: 0.8819\n",
            "Epoch 96/100\n",
            "26/26 [==============================] - 0s 7ms/step - loss: 1.9793e-05 - accuracy: 1.0000 - val_loss: 1.3566 - val_accuracy: 0.8819\n",
            "Epoch 97/100\n",
            "26/26 [==============================] - 0s 6ms/step - loss: 3.2540e-06 - accuracy: 1.0000 - val_loss: 1.3619 - val_accuracy: 0.8764\n",
            "Epoch 98/100\n",
            "26/26 [==============================] - 0s 7ms/step - loss: 1.3936e-05 - accuracy: 1.0000 - val_loss: 1.4071 - val_accuracy: 0.8709\n",
            "Epoch 99/100\n",
            "26/26 [==============================] - 0s 7ms/step - loss: 2.3485e-05 - accuracy: 1.0000 - val_loss: 1.3918 - val_accuracy: 0.8764\n",
            "Epoch 100/100\n",
            "26/26 [==============================] - 0s 7ms/step - loss: 2.0867e-05 - accuracy: 1.0000 - val_loss: 1.4340 - val_accuracy: 0.8709\n"
          ],
          "name": "stdout"
        }
      ]
    },
    {
      "cell_type": "code",
      "metadata": {
        "id": "P0Fk-e8wA3jd",
        "colab": {
          "base_uri": "https://localhost:8080/",
          "height": 308
        },
        "outputId": "1aec7c74-48e4-4061-a4b5-bc9200047bcf"
      },
      "source": [
        "f, (ax1, ax2) = plt.subplots(1, 2, figsize=(12, 4))\n",
        "t = f.suptitle('Pre-trained CNN (Transfer Learning) Performance', fontsize=12)\n",
        "f.subplots_adjust(top=0.85, wspace=0.3)\n",
        "\n",
        "epoch_list = list(range(1,101))\n",
        "ax1.plot(epoch_list, history.history['accuracy'], label='Train Accuracy')\n",
        "ax1.plot(epoch_list, history.history['val_accuracy'], label='Validation Accuracy')\n",
        "ax1.set_xticks(np.arange(0, 101, 5))\n",
        "ax1.set_ylabel('Accuracy Value')\n",
        "ax1.set_xlabel('Epoch')\n",
        "ax1.set_title('Accuracy')\n",
        "l1 = ax1.legend(loc=\"best\")\n",
        "\n",
        "ax2.plot(epoch_list, history.history['loss'], label='Train Loss')\n",
        "ax2.plot(epoch_list, history.history['val_loss'], label='Validation Loss')\n",
        "ax2.set_xticks(np.arange(0, 101, 5))\n",
        "ax2.set_ylabel('Loss Value')\n",
        "ax2.set_xlabel('Epoch')\n",
        "ax2.set_title('Loss')\n",
        "l2 = ax2.legend(loc=\"best\")"
      ],
      "execution_count": 20,
      "outputs": [
        {
          "output_type": "display_data",
          "data": {
            "image/png": "[encoded data removed]",
            "text/plain": [
              "<Figure size 864x288 with 2 Axes>"
            ]
          },
          "metadata": {
            "tags": [],
            "needs_background": "light"
          }
        }
      ]
    },
    {
      "cell_type": "code",
      "metadata": {
        "id": "wHLV0XfKA3jd"
      },
      "source": [
        "model.save('1_pretrained_cnn.h5')"
      ],
      "execution_count": 22,
      "outputs": []
    }
  ]
}