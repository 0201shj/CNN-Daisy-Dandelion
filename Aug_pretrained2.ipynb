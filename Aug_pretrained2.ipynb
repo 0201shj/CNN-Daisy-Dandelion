{
  "nbformat": 4,
  "nbformat_minor": 0,
  "metadata": {
    "kernelspec": {
      "display_name": "Python 3",
      "language": "python",
      "name": "python3"
    },
    "language_info": {
      "codemirror_mode": {
        "name": "ipython",
        "version": 3
      },
      "file_extension": ".py",
      "mimetype": "text/x-python",
      "name": "python",
      "nbconvert_exporter": "python",
      "pygments_lexer": "ipython3",
      "version": "3.7.6"
    },
    "colab": {
      "name": "Aug-pretrained2.ipynb",
      "provenance": [],
      "collapsed_sections": [],
      "include_colab_link": true
    },
    "accelerator": "GPU"
  },
  "cells": [
    {
      "cell_type": "markdown",
      "metadata": {
        "id": "view-in-github",
        "colab_type": "text"
      },
      "source": [
        "<a href=\"https://colab.research.google.com/github/0201shj/CNN-Daisy-Dandelion/blob/main/Aug_pretrained2.ipynb\" target=\"_parent\"><img src=\"https://colab.research.google.com/assets/colab-badge.svg\" alt=\"Open In Colab\"/></a>"
      ]
    },
    {
      "cell_type": "code",
      "metadata": {
        "colab": {
          "base_uri": "https://localhost:8080/"
        },
        "id": "22mg_PXnCKsU",
        "outputId": "34f0ad3e-f44a-40fa-95f0-651fa9502627"
      },
      "source": [
        "from google.colab import drive\n",
        "drive.mount('/content/drive')"
      ],
      "execution_count": 1,
      "outputs": [
        {
          "output_type": "stream",
          "text": [
            "Mounted at /content/drive\n"
          ],
          "name": "stdout"
        }
      ]
    },
    {
      "cell_type": "code",
      "metadata": {
        "id": "6giq8ls1A3jN"
      },
      "source": [
        "%matplotlib inline"
      ],
      "execution_count": 2,
      "outputs": []
    },
    {
      "cell_type": "code",
      "metadata": {
        "id": "B9GBtXmwA47m",
        "colab": {
          "base_uri": "https://localhost:8080/"
        },
        "outputId": "a0c07baf-3313-4291-de75-c5de5243e2fe"
      },
      "source": [
        "!ls -l"
      ],
      "execution_count": 3,
      "outputs": [
        {
          "output_type": "stream",
          "text": [
            "total 61920\n",
            "drwx------ 5 root root     4096 Jan 25 07:37 drive\n",
            "-rw------- 1 root root 63392390 Jan 25 06:58 flower.zip\n",
            "drwxr-xr-x 1 root root     4096 Jan 20 17:27 sample_data\n"
          ],
          "name": "stdout"
        }
      ]
    },
    {
      "cell_type": "code",
      "metadata": {
        "id": "O5M05p_pA5rd"
      },
      "source": [
        "!unzip flower.zip"
      ],
      "execution_count": null,
      "outputs": []
    },
    {
      "cell_type": "code",
      "metadata": {
        "id": "KPy5I5SBA3jW"
      },
      "source": [
        "import glob\n",
        "import numpy as np\n",
        "import matplotlib.pyplot as plt\n",
        "from tensorflow.keras.preprocessing.image import ImageDataGenerator, load_img, img_to_array, array_to_img"
      ],
      "execution_count": 5,
      "outputs": []
    },
    {
      "cell_type": "code",
      "metadata": {
        "id": "eZImnfGOA3jX",
        "colab": {
          "base_uri": "https://localhost:8080/"
        },
        "outputId": "7e6d8495-6140-47be-a338-1d62434e3f1c"
      },
      "source": [
        "IMG_DIM = (150, 150)\n",
        "\n",
        "train_files = glob.glob('training_data/*')\n",
        "train_imgs = [img_to_array(load_img(img, target_size=IMG_DIM)) for img in train_files]\n",
        "train_imgs = np.array(train_imgs)\n",
        "train_labels = [fn.split('/')[1].split('.')[0].strip() for fn in train_files]\n",
        "\n",
        "validation_files = glob.glob('validation_data/*')\n",
        "validation_imgs = [img_to_array(load_img(img, target_size=IMG_DIM)) for img in validation_files]\n",
        "validation_imgs = np.array(validation_imgs)\n",
        "validation_labels = [fn.split('/')[1].split('.')[0].strip() for fn in validation_files]\n",
        "\n",
        "print('Train dataset shape:', train_imgs.shape, \n",
        "      '\\tValidation dataset shape:', validation_imgs.shape)"
      ],
      "execution_count": 6,
      "outputs": [
        {
          "output_type": "stream",
          "text": [
            "Train dataset shape: (1275, 150, 150, 3) \tValidation dataset shape: (364, 150, 150, 3)\n"
          ],
          "name": "stdout"
        }
      ]
    },
    {
      "cell_type": "code",
      "metadata": {
        "id": "OiDa5o60A3jX"
      },
      "source": [
        "train_imgs_scaled = train_imgs.astype('float32')\n",
        "validation_imgs_scaled = validation_imgs.astype('float32')\n",
        "train_imgs_scaled /= 255\n",
        "validation_imgs_scaled /= 255"
      ],
      "execution_count": 7,
      "outputs": []
    },
    {
      "cell_type": "code",
      "metadata": {
        "id": "COLKZn79A3jY",
        "colab": {
          "base_uri": "https://localhost:8080/"
        },
        "outputId": "2ec697b8-f225-44a6-eb01-297b3a82de4b"
      },
      "source": [
        "batch_size = 50\n",
        "num_classes = 2\n",
        "epochs = 150\n",
        "input_shape = (150, 150, 3)\n",
        "\n",
        "from sklearn.preprocessing import LabelEncoder\n",
        "\n",
        "le = LabelEncoder()\n",
        "le.fit(train_labels)\n",
        "# encode wine type labels\n",
        "train_labels_enc = le.transform(train_labels)\n",
        "validation_labels_enc = le.transform(validation_labels)\n",
        "\n",
        "print(train_labels[0:5], train_labels_enc[0:5])"
      ],
      "execution_count": 8,
      "outputs": [
        {
          "output_type": "stream",
          "text": [
            "['daisy', 'dandelion', 'dandelion', 'daisy', 'dandelion'] [0 1 1 0 1]\n"
          ],
          "name": "stdout"
        }
      ]
    },
    {
      "cell_type": "code",
      "metadata": {
        "id": "Ieppy25xFE_N"
      },
      "source": [
        ""
      ],
      "execution_count": null,
      "outputs": []
    },
    {
      "cell_type": "code",
      "metadata": {
        "id": "j0wF41XlFEu9"
      },
      "source": [
        "train_datagen = ImageDataGenerator( zoom_range=0.3, rotation_range=50,  # rescale=1./255,\r\n",
        "                                   width_shift_range=0.2, height_shift_range=0.2, shear_range=0.2, \r\n",
        "                                   horizontal_flip=True, fill_mode='nearest')\r\n",
        "\r\n",
        "val_datagen = ImageDataGenerator() # rescale=1./255\r\n",
        "\r\n",
        "train_generator = train_datagen.flow(train_imgs, train_labels_enc, batch_size=30)\r\n",
        "val_generator = val_datagen.flow(validation_imgs, validation_labels_enc, batch_size=20)"
      ],
      "execution_count": 9,
      "outputs": []
    },
    {
      "cell_type": "code",
      "metadata": {
        "id": "wDDCzCWzFEDf"
      },
      "source": [
        ""
      ],
      "execution_count": null,
      "outputs": []
    },
    {
      "cell_type": "code",
      "metadata": {
        "id": "9fVVMivMA3jZ",
        "colab": {
          "base_uri": "https://localhost:8080/"
        },
        "outputId": "1168190a-5449-4e39-b7ec-0987b661e03c"
      },
      "source": [
        "from tensorflow.keras.applications import vgg16\n",
        "from tensorflow.keras.models import Model\n",
        "import tensorflow.keras\n",
        "\n",
        "vgg = vgg16.VGG16(include_top=False, weights='imagenet',\n",
        "                                     input_shape=input_shape)\n",
        "\n",
        "output = vgg.layers[-1].output\n",
        "output = tensorflow.keras.layers.Flatten()(output)\n",
        "\n",
        "vgg_model = Model(vgg.input, output)\n",
        "vgg_model.trainable = False\n",
        "\n",
        "for layer in vgg_model.layers:\n",
        "    layer.trainable = False\n",
        "\n",
        "vgg_model.summary()\n"
      ],
      "execution_count": 10,
      "outputs": [
        {
          "output_type": "stream",
          "text": [
            "Downloading data from https://storage.googleapis.com/tensorflow/keras-applications/vgg16/vgg16_weights_tf_dim_ordering_tf_kernels_notop.h5\n",
            "58892288/58889256 [==============================] - 1s 0us/step\n",
            "Model: \"model\"\n",
            "_________________________________________________________________\n",
            "Layer (type)                 Output Shape              Param #   \n",
            "=================================================================\n",
            "input_1 (InputLayer)         [(None, 150, 150, 3)]     0         \n",
            "_________________________________________________________________\n",
            "block1_conv1 (Conv2D)        (None, 150, 150, 64)      1792      \n",
            "_________________________________________________________________\n",
            "block1_conv2 (Conv2D)        (None, 150, 150, 64)      36928     \n",
            "_________________________________________________________________\n",
            "block1_pool (MaxPooling2D)   (None, 75, 75, 64)        0         \n",
            "_________________________________________________________________\n",
            "block2_conv1 (Conv2D)        (None, 75, 75, 128)       73856     \n",
            "_________________________________________________________________\n",
            "block2_conv2 (Conv2D)        (None, 75, 75, 128)       147584    \n",
            "_________________________________________________________________\n",
            "block2_pool (MaxPooling2D)   (None, 37, 37, 128)       0         \n",
            "_________________________________________________________________\n",
            "block3_conv1 (Conv2D)        (None, 37, 37, 256)       295168    \n",
            "_________________________________________________________________\n",
            "block3_conv2 (Conv2D)        (None, 37, 37, 256)       590080    \n",
            "_________________________________________________________________\n",
            "block3_conv3 (Conv2D)        (None, 37, 37, 256)       590080    \n",
            "_________________________________________________________________\n",
            "block3_pool (MaxPooling2D)   (None, 18, 18, 256)       0         \n",
            "_________________________________________________________________\n",
            "block4_conv1 (Conv2D)        (None, 18, 18, 512)       1180160   \n",
            "_________________________________________________________________\n",
            "block4_conv2 (Conv2D)        (None, 18, 18, 512)       2359808   \n",
            "_________________________________________________________________\n",
            "block4_conv3 (Conv2D)        (None, 18, 18, 512)       2359808   \n",
            "_________________________________________________________________\n",
            "block4_pool (MaxPooling2D)   (None, 9, 9, 512)         0         \n",
            "_________________________________________________________________\n",
            "block5_conv1 (Conv2D)        (None, 9, 9, 512)         2359808   \n",
            "_________________________________________________________________\n",
            "block5_conv2 (Conv2D)        (None, 9, 9, 512)         2359808   \n",
            "_________________________________________________________________\n",
            "block5_conv3 (Conv2D)        (None, 9, 9, 512)         2359808   \n",
            "_________________________________________________________________\n",
            "block5_pool (MaxPooling2D)   (None, 4, 4, 512)         0         \n",
            "_________________________________________________________________\n",
            "flatten (Flatten)            (None, 8192)              0         \n",
            "=================================================================\n",
            "Total params: 14,714,688\n",
            "Trainable params: 0\n",
            "Non-trainable params: 14,714,688\n",
            "_________________________________________________________________\n"
          ],
          "name": "stdout"
        }
      ]
    },
    {
      "cell_type": "code",
      "metadata": {
        "id": "c6M8SjAvDA8O"
      },
      "source": [
        "vgg_model.trainable = True\r\n",
        "\r\n",
        "set_trainable = False\r\n",
        "for layer in vgg_model.layers:\r\n",
        "    if layer.name in ['block5_conv1', 'block4_conv1']:\r\n",
        "        set_trainable = True\r\n",
        "    if set_trainable:\r\n",
        "        layer.trainable = True\r\n",
        "    else:\r\n",
        "        layer.trainable = False\r\n",
        "        \r\n",
        "print(\"Trainable layers:\", vgg_model.trainable_weights)"
      ],
      "execution_count": null,
      "outputs": []
    },
    {
      "cell_type": "code",
      "metadata": {
        "id": "vrP0LmjVY-Kn",
        "colab": {
          "base_uri": "https://localhost:8080/"
        },
        "outputId": "4b2713d0-7519-469d-dfdb-657ddbd16cbb"
      },
      "source": [
        "vgg_model.summary()"
      ],
      "execution_count": 12,
      "outputs": [
        {
          "output_type": "stream",
          "text": [
            "Model: \"model\"\n",
            "_________________________________________________________________\n",
            "Layer (type)                 Output Shape              Param #   \n",
            "=================================================================\n",
            "input_1 (InputLayer)         [(None, 150, 150, 3)]     0         \n",
            "_________________________________________________________________\n",
            "block1_conv1 (Conv2D)        (None, 150, 150, 64)      1792      \n",
            "_________________________________________________________________\n",
            "block1_conv2 (Conv2D)        (None, 150, 150, 64)      36928     \n",
            "_________________________________________________________________\n",
            "block1_pool (MaxPooling2D)   (None, 75, 75, 64)        0         \n",
            "_________________________________________________________________\n",
            "block2_conv1 (Conv2D)        (None, 75, 75, 128)       73856     \n",
            "_________________________________________________________________\n",
            "block2_conv2 (Conv2D)        (None, 75, 75, 128)       147584    \n",
            "_________________________________________________________________\n",
            "block2_pool (MaxPooling2D)   (None, 37, 37, 128)       0         \n",
            "_________________________________________________________________\n",
            "block3_conv1 (Conv2D)        (None, 37, 37, 256)       295168    \n",
            "_________________________________________________________________\n",
            "block3_conv2 (Conv2D)        (None, 37, 37, 256)       590080    \n",
            "_________________________________________________________________\n",
            "block3_conv3 (Conv2D)        (None, 37, 37, 256)       590080    \n",
            "_________________________________________________________________\n",
            "block3_pool (MaxPooling2D)   (None, 18, 18, 256)       0         \n",
            "_________________________________________________________________\n",
            "block4_conv1 (Conv2D)        (None, 18, 18, 512)       1180160   \n",
            "_________________________________________________________________\n",
            "block4_conv2 (Conv2D)        (None, 18, 18, 512)       2359808   \n",
            "_________________________________________________________________\n",
            "block4_conv3 (Conv2D)        (None, 18, 18, 512)       2359808   \n",
            "_________________________________________________________________\n",
            "block4_pool (MaxPooling2D)   (None, 9, 9, 512)         0         \n",
            "_________________________________________________________________\n",
            "block5_conv1 (Conv2D)        (None, 9, 9, 512)         2359808   \n",
            "_________________________________________________________________\n",
            "block5_conv2 (Conv2D)        (None, 9, 9, 512)         2359808   \n",
            "_________________________________________________________________\n",
            "block5_conv3 (Conv2D)        (None, 9, 9, 512)         2359808   \n",
            "_________________________________________________________________\n",
            "block5_pool (MaxPooling2D)   (None, 4, 4, 512)         0         \n",
            "_________________________________________________________________\n",
            "flatten (Flatten)            (None, 8192)              0         \n",
            "=================================================================\n",
            "Total params: 14,714,688\n",
            "Trainable params: 12,979,200\n",
            "Non-trainable params: 1,735,488\n",
            "_________________________________________________________________\n"
          ],
          "name": "stdout"
        }
      ]
    },
    {
      "cell_type": "code",
      "metadata": {
        "id": "T9SDjC3EA3jZ",
        "colab": {
          "base_uri": "https://localhost:8080/",
          "height": 694
        },
        "outputId": "d9a24518-350e-4880-bd7c-fc7666d6e613"
      },
      "source": [
        "import pandas as pd\n",
        "pd.set_option('max_colwidth', -1)\n",
        "\n",
        "layers = [(layer, layer.name, layer.trainable) for layer in vgg_model.layers]\n",
        "pd.DataFrame(layers, columns=['Layer Type', 'Layer Name', 'Layer Trainable'])"
      ],
      "execution_count": 13,
      "outputs": [
        {
          "output_type": "stream",
          "text": [
            "/usr/local/lib/python3.6/dist-packages/ipykernel_launcher.py:2: FutureWarning: Passing a negative integer is deprecated in version 1.0 and will not be supported in future version. Instead, use None to not limit the column width.\n",
            "  \n"
          ],
          "name": "stderr"
        },
        {
          "output_type": "execute_result",
          "data": {
            "text/html": [
              "<div>\n",
              "<style scoped>\n",
              "    .dataframe tbody tr th:only-of-type {\n",
              "        vertical-align: middle;\n",
              "    }\n",
              "\n",
              "    .dataframe tbody tr th {\n",
              "        vertical-align: top;\n",
              "    }\n",
              "\n",
              "    .dataframe thead th {\n",
              "        text-align: right;\n",
              "    }\n",
              "</style>\n",
              "<table border=\"1\" class=\"dataframe\">\n",
              "  <thead>\n",
              "    <tr style=\"text-align: right;\">\n",
              "      <th></th>\n",
              "      <th>Layer Type</th>\n",
              "      <th>Layer Name</th>\n",
              "      <th>Layer Trainable</th>\n",
              "    </tr>\n",
              "  </thead>\n",
              "  <tbody>\n",
              "    <tr>\n",
              "      <th>0</th>\n",
              "      <td>&lt;tensorflow.python.keras.engine.input_layer.InputLayer object at 0x7f3c2959c048&gt;</td>\n",
              "      <td>input_1</td>\n",
              "      <td>False</td>\n",
              "    </tr>\n",
              "    <tr>\n",
              "      <th>1</th>\n",
              "      <td>&lt;tensorflow.python.keras.layers.convolutional.Conv2D object at 0x7f3c29542550&gt;</td>\n",
              "      <td>block1_conv1</td>\n",
              "      <td>False</td>\n",
              "    </tr>\n",
              "    <tr>\n",
              "      <th>2</th>\n",
              "      <td>&lt;tensorflow.python.keras.layers.convolutional.Conv2D object at 0x7f3c28d192e8&gt;</td>\n",
              "      <td>block1_conv2</td>\n",
              "      <td>False</td>\n",
              "    </tr>\n",
              "    <tr>\n",
              "      <th>3</th>\n",
              "      <td>&lt;tensorflow.python.keras.layers.pooling.MaxPooling2D object at 0x7f3c200ff8d0&gt;</td>\n",
              "      <td>block1_pool</td>\n",
              "      <td>False</td>\n",
              "    </tr>\n",
              "    <tr>\n",
              "      <th>4</th>\n",
              "      <td>&lt;tensorflow.python.keras.layers.convolutional.Conv2D object at 0x7f3c20108978&gt;</td>\n",
              "      <td>block2_conv1</td>\n",
              "      <td>False</td>\n",
              "    </tr>\n",
              "    <tr>\n",
              "      <th>5</th>\n",
              "      <td>&lt;tensorflow.python.keras.layers.convolutional.Conv2D object at 0x7f3c2010c7b8&gt;</td>\n",
              "      <td>block2_conv2</td>\n",
              "      <td>False</td>\n",
              "    </tr>\n",
              "    <tr>\n",
              "      <th>6</th>\n",
              "      <td>&lt;tensorflow.python.keras.layers.pooling.MaxPooling2D object at 0x7f3c2010c1d0&gt;</td>\n",
              "      <td>block2_pool</td>\n",
              "      <td>False</td>\n",
              "    </tr>\n",
              "    <tr>\n",
              "      <th>7</th>\n",
              "      <td>&lt;tensorflow.python.keras.layers.convolutional.Conv2D object at 0x7f3c20113c18&gt;</td>\n",
              "      <td>block3_conv1</td>\n",
              "      <td>False</td>\n",
              "    </tr>\n",
              "    <tr>\n",
              "      <th>8</th>\n",
              "      <td>&lt;tensorflow.python.keras.layers.convolutional.Conv2D object at 0x7f3c2011ae48&gt;</td>\n",
              "      <td>block3_conv2</td>\n",
              "      <td>False</td>\n",
              "    </tr>\n",
              "    <tr>\n",
              "      <th>9</th>\n",
              "      <td>&lt;tensorflow.python.keras.layers.convolutional.Conv2D object at 0x7f3c201202e8&gt;</td>\n",
              "      <td>block3_conv3</td>\n",
              "      <td>False</td>\n",
              "    </tr>\n",
              "    <tr>\n",
              "      <th>10</th>\n",
              "      <td>&lt;tensorflow.python.keras.layers.pooling.MaxPooling2D object at 0x7f3c201265f8&gt;</td>\n",
              "      <td>block3_pool</td>\n",
              "      <td>False</td>\n",
              "    </tr>\n",
              "    <tr>\n",
              "      <th>11</th>\n",
              "      <td>&lt;tensorflow.python.keras.layers.convolutional.Conv2D object at 0x7f3c2012d550&gt;</td>\n",
              "      <td>block4_conv1</td>\n",
              "      <td>True</td>\n",
              "    </tr>\n",
              "    <tr>\n",
              "      <th>12</th>\n",
              "      <td>&lt;tensorflow.python.keras.layers.convolutional.Conv2D object at 0x7f3c201324e0&gt;</td>\n",
              "      <td>block4_conv2</td>\n",
              "      <td>True</td>\n",
              "    </tr>\n",
              "    <tr>\n",
              "      <th>13</th>\n",
              "      <td>&lt;tensorflow.python.keras.layers.convolutional.Conv2D object at 0x7f3c20132e10&gt;</td>\n",
              "      <td>block4_conv3</td>\n",
              "      <td>True</td>\n",
              "    </tr>\n",
              "    <tr>\n",
              "      <th>14</th>\n",
              "      <td>&lt;tensorflow.python.keras.layers.pooling.MaxPooling2D object at 0x7f3c201264e0&gt;</td>\n",
              "      <td>block4_pool</td>\n",
              "      <td>True</td>\n",
              "    </tr>\n",
              "    <tr>\n",
              "      <th>15</th>\n",
              "      <td>&lt;tensorflow.python.keras.layers.convolutional.Conv2D object at 0x7f3c200c02e8&gt;</td>\n",
              "      <td>block5_conv1</td>\n",
              "      <td>True</td>\n",
              "    </tr>\n",
              "    <tr>\n",
              "      <th>16</th>\n",
              "      <td>&lt;tensorflow.python.keras.layers.convolutional.Conv2D object at 0x7f3c200c04e0&gt;</td>\n",
              "      <td>block5_conv2</td>\n",
              "      <td>True</td>\n",
              "    </tr>\n",
              "    <tr>\n",
              "      <th>17</th>\n",
              "      <td>&lt;tensorflow.python.keras.layers.convolutional.Conv2D object at 0x7f3c200c6780&gt;</td>\n",
              "      <td>block5_conv3</td>\n",
              "      <td>True</td>\n",
              "    </tr>\n",
              "    <tr>\n",
              "      <th>18</th>\n",
              "      <td>&lt;tensorflow.python.keras.layers.pooling.MaxPooling2D object at 0x7f3c200cdf28&gt;</td>\n",
              "      <td>block5_pool</td>\n",
              "      <td>True</td>\n",
              "    </tr>\n",
              "    <tr>\n",
              "      <th>19</th>\n",
              "      <td>&lt;tensorflow.python.keras.layers.core.Flatten object at 0x7f3c200c0550&gt;</td>\n",
              "      <td>flatten</td>\n",
              "      <td>True</td>\n",
              "    </tr>\n",
              "  </tbody>\n",
              "</table>\n",
              "</div>"
            ],
            "text/plain": [
              "                                                                          Layer Type  ... Layer Trainable\n",
              "0   <tensorflow.python.keras.engine.input_layer.InputLayer object at 0x7f3c2959c048>  ...  False         \n",
              "1   <tensorflow.python.keras.layers.convolutional.Conv2D object at 0x7f3c29542550>    ...  False         \n",
              "2   <tensorflow.python.keras.layers.convolutional.Conv2D object at 0x7f3c28d192e8>    ...  False         \n",
              "3   <tensorflow.python.keras.layers.pooling.MaxPooling2D object at 0x7f3c200ff8d0>    ...  False         \n",
              "4   <tensorflow.python.keras.layers.convolutional.Conv2D object at 0x7f3c20108978>    ...  False         \n",
              "5   <tensorflow.python.keras.layers.convolutional.Conv2D object at 0x7f3c2010c7b8>    ...  False         \n",
              "6   <tensorflow.python.keras.layers.pooling.MaxPooling2D object at 0x7f3c2010c1d0>    ...  False         \n",
              "7   <tensorflow.python.keras.layers.convolutional.Conv2D object at 0x7f3c20113c18>    ...  False         \n",
              "8   <tensorflow.python.keras.layers.convolutional.Conv2D object at 0x7f3c2011ae48>    ...  False         \n",
              "9   <tensorflow.python.keras.layers.convolutional.Conv2D object at 0x7f3c201202e8>    ...  False         \n",
              "10  <tensorflow.python.keras.layers.pooling.MaxPooling2D object at 0x7f3c201265f8>    ...  False         \n",
              "11  <tensorflow.python.keras.layers.convolutional.Conv2D object at 0x7f3c2012d550>    ...  True          \n",
              "12  <tensorflow.python.keras.layers.convolutional.Conv2D object at 0x7f3c201324e0>    ...  True          \n",
              "13  <tensorflow.python.keras.layers.convolutional.Conv2D object at 0x7f3c20132e10>    ...  True          \n",
              "14  <tensorflow.python.keras.layers.pooling.MaxPooling2D object at 0x7f3c201264e0>    ...  True          \n",
              "15  <tensorflow.python.keras.layers.convolutional.Conv2D object at 0x7f3c200c02e8>    ...  True          \n",
              "16  <tensorflow.python.keras.layers.convolutional.Conv2D object at 0x7f3c200c04e0>    ...  True          \n",
              "17  <tensorflow.python.keras.layers.convolutional.Conv2D object at 0x7f3c200c6780>    ...  True          \n",
              "18  <tensorflow.python.keras.layers.pooling.MaxPooling2D object at 0x7f3c200cdf28>    ...  True          \n",
              "19  <tensorflow.python.keras.layers.core.Flatten object at 0x7f3c200c0550>            ...  True          \n",
              "\n",
              "[20 rows x 3 columns]"
            ]
          },
          "metadata": {
            "tags": []
          },
          "execution_count": 13
        }
      ]
    },
    {
      "cell_type": "code",
      "metadata": {
        "id": "OvJvrtrgA3ja"
      },
      "source": [
        "#print(\"Trainable layers:\", vgg_model.trainable_weights)"
      ],
      "execution_count": null,
      "outputs": []
    },
    {
      "cell_type": "code",
      "metadata": {
        "colab": {
          "base_uri": "https://localhost:8080/",
          "height": 304
        },
        "id": "K-dwgsC6SIre",
        "outputId": "cc821f72-69d8-4abf-b1a2-0ca0b065d945"
      },
      "source": [
        "bottleneck_feature_example = vgg.predict(train_imgs_scaled[0:1])\r\n",
        "print(bottleneck_feature_example.shape)\r\n",
        "plt.imshow(bottleneck_feature_example[0][:,:,0])"
      ],
      "execution_count": 14,
      "outputs": [
        {
          "output_type": "stream",
          "text": [
            "(1, 4, 4, 512)\n"
          ],
          "name": "stdout"
        },
        {
          "output_type": "execute_result",
          "data": {
            "text/plain": [
              "<matplotlib.image.AxesImage at 0x7f3bc9fe7a90>"
            ]
          },
          "metadata": {
            "tags": []
          },
          "execution_count": 14
        },
        {
          "output_type": "display_data",
          "data": {
            "image/png": "[encoded data removed]",
            "text/plain": [
              "<Figure size 432x288 with 1 Axes>"
            ]
          },
          "metadata": {
            "tags": [],
            "needs_background": "light"
          }
        }
      ]
    },
    {
      "cell_type": "code",
      "metadata": {
        "id": "_8LY2OOaA3jb"
      },
      "source": [
        "def get_bottleneck_features(model, input_imgs):\n",
        "    \n",
        "    features = model.predict(input_imgs, verbose=0)\n",
        "    return features"
      ],
      "execution_count": 15,
      "outputs": []
    },
    {
      "cell_type": "code",
      "metadata": {
        "id": "8sekjWocA3jb",
        "colab": {
          "base_uri": "https://localhost:8080/"
        },
        "outputId": "6896e6fd-58ee-447b-b0b3-5272cfb08e2d"
      },
      "source": [
        "train_features_vgg = get_bottleneck_features(vgg_model, train_imgs_scaled)\n",
        "validation_features_vgg = get_bottleneck_features(vgg_model, validation_imgs_scaled)\n",
        "\n",
        "print('Train Bottleneck Features:', train_features_vgg.shape, \n",
        "      '\\tValidation Bottleneck Features:', validation_features_vgg.shape)"
      ],
      "execution_count": 16,
      "outputs": [
        {
          "output_type": "stream",
          "text": [
            "Train Bottleneck Features: (1275, 8192) \tValidation Bottleneck Features: (364, 8192)\n"
          ],
          "name": "stdout"
        }
      ]
    },
    {
      "cell_type": "code",
      "metadata": {
        "id": "qyFijnDhGBjn",
        "colab": {
          "base_uri": "https://localhost:8080/"
        },
        "outputId": "11cfcdd4-2e3d-45dd-d580-99767e58fc15"
      },
      "source": [
        "from tensorflow.keras.layers import Conv2D, MaxPooling2D, Flatten, Dense, Dropout, InputLayer\r\n",
        "from tensorflow.keras.models import Sequential\r\n",
        "from tensorflow.keras import optimizers\r\n",
        "\r\n",
        "model = Sequential()\r\n",
        "model.add(vgg_model)\r\n",
        "model.add(Dense(512, activation='relu', input_dim=input_shape))\r\n",
        "model.add(Dropout(0.3))\r\n",
        "model.add(Dense(64, activation='relu'))\r\n",
        "model.add(Dropout(0.3))\r\n",
        "model.add(Dense(1, activation='sigmoid'))\r\n",
        "\r\n",
        "model.compile(loss='binary_crossentropy',\r\n",
        "              optimizer=optimizers.RMSprop(lr=2e-5),\r\n",
        "              metrics=['accuracy'])\r\n",
        "\r\n",
        "model.summary()"
      ],
      "execution_count": 17,
      "outputs": [
        {
          "output_type": "stream",
          "text": [
            "Model: \"sequential\"\n",
            "_________________________________________________________________\n",
            "Layer (type)                 Output Shape              Param #   \n",
            "=================================================================\n",
            "model (Functional)           (None, 8192)              14714688  \n",
            "_________________________________________________________________\n",
            "dense (Dense)                (None, 512)               4194816   \n",
            "_________________________________________________________________\n",
            "dropout (Dropout)            (None, 512)               0         \n",
            "_________________________________________________________________\n",
            "dense_1 (Dense)              (None, 64)                32832     \n",
            "_________________________________________________________________\n",
            "dropout_1 (Dropout)          (None, 64)                0         \n",
            "_________________________________________________________________\n",
            "dense_2 (Dense)              (None, 1)                 65        \n",
            "=================================================================\n",
            "Total params: 18,942,401\n",
            "Trainable params: 17,206,913\n",
            "Non-trainable params: 1,735,488\n",
            "_________________________________________________________________\n"
          ],
          "name": "stdout"
        }
      ]
    },
    {
      "cell_type": "code",
      "metadata": {
        "id": "oXhFf4HLA3jc",
        "colab": {
          "base_uri": "https://localhost:8080/"
        },
        "outputId": "89178ccc-8d05-45e3-b334-51b2cbfccfbb"
      },
      "source": [
        "history = model.fit_generator(train_generator,  epochs=epochs,\r\n",
        "                              validation_data=val_generator,  verbose=1)"
      ],
      "execution_count": 18,
      "outputs": [
        {
          "output_type": "stream",
          "text": [
            "/usr/local/lib/python3.6/dist-packages/tensorflow/python/keras/engine/training.py:1844: UserWarning: `Model.fit_generator` is deprecated and will be removed in a future version. Please use `Model.fit`, which supports generators.\n",
            "  warnings.warn('`Model.fit_generator` is deprecated and '\n"
          ],
          "name": "stderr"
        },
        {
          "output_type": "stream",
          "text": [
            "Epoch 1/150\n",
            "43/43 [==============================] - 12s 239ms/step - loss: 2.7617 - accuracy: 0.5708 - val_loss: 0.4967 - val_accuracy: 0.7912\n",
            "Epoch 2/150\n",
            "43/43 [==============================] - 8s 192ms/step - loss: 0.7170 - accuracy: 0.6866 - val_loss: 0.3110 - val_accuracy: 0.8901\n",
            "Epoch 3/150\n",
            "43/43 [==============================] - 8s 193ms/step - loss: 0.4134 - accuracy: 0.8199 - val_loss: 0.2293 - val_accuracy: 0.9011\n",
            "Epoch 4/150\n",
            "43/43 [==============================] - 8s 195ms/step - loss: 0.3628 - accuracy: 0.8459 - val_loss: 0.1880 - val_accuracy: 0.9148\n",
            "Epoch 5/150\n",
            "43/43 [==============================] - 8s 195ms/step - loss: 0.2363 - accuracy: 0.8943 - val_loss: 0.2436 - val_accuracy: 0.8956\n",
            "Epoch 6/150\n",
            "43/43 [==============================] - 8s 192ms/step - loss: 0.2083 - accuracy: 0.8997 - val_loss: 0.1698 - val_accuracy: 0.9341\n",
            "Epoch 7/150\n",
            "43/43 [==============================] - 8s 193ms/step - loss: 0.1713 - accuracy: 0.9270 - val_loss: 0.2429 - val_accuracy: 0.9203\n",
            "Epoch 8/150\n",
            "43/43 [==============================] - 8s 195ms/step - loss: 0.1612 - accuracy: 0.9373 - val_loss: 0.1891 - val_accuracy: 0.9148\n",
            "Epoch 9/150\n",
            "43/43 [==============================] - 8s 193ms/step - loss: 0.1735 - accuracy: 0.9198 - val_loss: 0.1588 - val_accuracy: 0.9423\n",
            "Epoch 10/150\n",
            "43/43 [==============================] - 8s 194ms/step - loss: 0.1438 - accuracy: 0.9423 - val_loss: 0.1786 - val_accuracy: 0.9231\n",
            "Epoch 11/150\n",
            "43/43 [==============================] - 8s 195ms/step - loss: 0.1269 - accuracy: 0.9423 - val_loss: 0.2437 - val_accuracy: 0.9176\n",
            "Epoch 12/150\n",
            "43/43 [==============================] - 8s 194ms/step - loss: 0.1317 - accuracy: 0.9395 - val_loss: 0.2001 - val_accuracy: 0.9451\n",
            "Epoch 13/150\n",
            "43/43 [==============================] - 8s 194ms/step - loss: 0.0960 - accuracy: 0.9594 - val_loss: 0.1907 - val_accuracy: 0.9423\n",
            "Epoch 14/150\n",
            "43/43 [==============================] - 8s 194ms/step - loss: 0.0925 - accuracy: 0.9628 - val_loss: 0.2026 - val_accuracy: 0.9396\n",
            "Epoch 15/150\n",
            "43/43 [==============================] - 8s 195ms/step - loss: 0.0755 - accuracy: 0.9774 - val_loss: 0.2597 - val_accuracy: 0.9368\n",
            "Epoch 16/150\n",
            "43/43 [==============================] - 8s 194ms/step - loss: 0.0850 - accuracy: 0.9734 - val_loss: 0.2606 - val_accuracy: 0.9451\n",
            "Epoch 17/150\n",
            "43/43 [==============================] - 8s 196ms/step - loss: 0.0721 - accuracy: 0.9706 - val_loss: 0.2593 - val_accuracy: 0.9451\n",
            "Epoch 18/150\n",
            "43/43 [==============================] - 8s 196ms/step - loss: 0.0794 - accuracy: 0.9731 - val_loss: 0.3059 - val_accuracy: 0.9451\n",
            "Epoch 19/150\n",
            "43/43 [==============================] - 8s 197ms/step - loss: 0.0498 - accuracy: 0.9791 - val_loss: 0.3960 - val_accuracy: 0.9231\n",
            "Epoch 20/150\n",
            "43/43 [==============================] - 9s 197ms/step - loss: 0.0732 - accuracy: 0.9789 - val_loss: 0.4052 - val_accuracy: 0.9286\n",
            "Epoch 21/150\n",
            "43/43 [==============================] - 8s 197ms/step - loss: 0.0391 - accuracy: 0.9877 - val_loss: 0.2397 - val_accuracy: 0.9396\n",
            "Epoch 22/150\n",
            "43/43 [==============================] - 8s 195ms/step - loss: 0.0673 - accuracy: 0.9715 - val_loss: 0.3178 - val_accuracy: 0.9396\n",
            "Epoch 23/150\n",
            "43/43 [==============================] - 8s 196ms/step - loss: 0.0424 - accuracy: 0.9855 - val_loss: 0.2987 - val_accuracy: 0.9368\n",
            "Epoch 24/150\n",
            "43/43 [==============================] - 8s 194ms/step - loss: 0.0600 - accuracy: 0.9813 - val_loss: 0.3993 - val_accuracy: 0.9368\n",
            "Epoch 25/150\n",
            "43/43 [==============================] - 8s 195ms/step - loss: 0.0330 - accuracy: 0.9863 - val_loss: 0.5974 - val_accuracy: 0.9341\n",
            "Epoch 26/150\n",
            "43/43 [==============================] - 8s 196ms/step - loss: 0.0572 - accuracy: 0.9857 - val_loss: 0.5213 - val_accuracy: 0.9286\n",
            "Epoch 27/150\n",
            "43/43 [==============================] - 9s 197ms/step - loss: 0.0360 - accuracy: 0.9899 - val_loss: 0.5048 - val_accuracy: 0.9451\n",
            "Epoch 28/150\n",
            "43/43 [==============================] - 8s 194ms/step - loss: 0.0365 - accuracy: 0.9855 - val_loss: 0.6394 - val_accuracy: 0.9423\n",
            "Epoch 29/150\n",
            "43/43 [==============================] - 8s 195ms/step - loss: 0.1655 - accuracy: 0.9805 - val_loss: 0.5087 - val_accuracy: 0.9478\n",
            "Epoch 30/150\n",
            "43/43 [==============================] - 8s 195ms/step - loss: 0.0333 - accuracy: 0.9890 - val_loss: 0.5998 - val_accuracy: 0.9258\n",
            "Epoch 31/150\n",
            "43/43 [==============================] - 8s 195ms/step - loss: 0.0194 - accuracy: 0.9948 - val_loss: 0.7553 - val_accuracy: 0.9423\n",
            "Epoch 32/150\n",
            "43/43 [==============================] - 8s 197ms/step - loss: 0.0693 - accuracy: 0.9861 - val_loss: 0.6961 - val_accuracy: 0.9505\n",
            "Epoch 33/150\n",
            "43/43 [==============================] - 8s 199ms/step - loss: 0.0738 - accuracy: 0.9886 - val_loss: 0.5583 - val_accuracy: 0.9478\n",
            "Epoch 34/150\n",
            "43/43 [==============================] - 8s 195ms/step - loss: 0.0292 - accuracy: 0.9913 - val_loss: 0.7540 - val_accuracy: 0.9258\n",
            "Epoch 35/150\n",
            "43/43 [==============================] - 8s 196ms/step - loss: 0.0215 - accuracy: 0.9935 - val_loss: 0.4780 - val_accuracy: 0.9478\n",
            "Epoch 36/150\n",
            "43/43 [==============================] - 9s 197ms/step - loss: 0.0186 - accuracy: 0.9940 - val_loss: 0.5459 - val_accuracy: 0.9423\n",
            "Epoch 37/150\n",
            "43/43 [==============================] - 8s 196ms/step - loss: 0.0136 - accuracy: 0.9967 - val_loss: 0.4852 - val_accuracy: 0.9478\n",
            "Epoch 38/150\n",
            "43/43 [==============================] - 8s 196ms/step - loss: 0.0265 - accuracy: 0.9891 - val_loss: 0.7621 - val_accuracy: 0.9423\n",
            "Epoch 39/150\n",
            "43/43 [==============================] - 8s 196ms/step - loss: 0.0180 - accuracy: 0.9940 - val_loss: 0.6114 - val_accuracy: 0.9478\n",
            "Epoch 40/150\n",
            "43/43 [==============================] - 8s 195ms/step - loss: 0.0411 - accuracy: 0.9955 - val_loss: 0.5852 - val_accuracy: 0.9203\n",
            "Epoch 41/150\n",
            "43/43 [==============================] - 8s 195ms/step - loss: 0.0108 - accuracy: 0.9990 - val_loss: 0.3594 - val_accuracy: 0.9560\n",
            "Epoch 42/150\n",
            "43/43 [==============================] - 8s 195ms/step - loss: 0.0385 - accuracy: 0.9882 - val_loss: 0.4719 - val_accuracy: 0.9423\n",
            "Epoch 43/150\n",
            "43/43 [==============================] - 8s 195ms/step - loss: 0.0260 - accuracy: 0.9929 - val_loss: 0.3757 - val_accuracy: 0.9533\n",
            "Epoch 44/150\n",
            "43/43 [==============================] - 8s 196ms/step - loss: 0.0169 - accuracy: 0.9931 - val_loss: 1.0551 - val_accuracy: 0.9368\n",
            "Epoch 45/150\n",
            "43/43 [==============================] - 8s 196ms/step - loss: 0.0139 - accuracy: 0.9964 - val_loss: 0.9973 - val_accuracy: 0.9423\n",
            "Epoch 46/150\n",
            "43/43 [==============================] - 9s 197ms/step - loss: 0.0565 - accuracy: 0.9893 - val_loss: 0.7356 - val_accuracy: 0.9423\n",
            "Epoch 47/150\n",
            "43/43 [==============================] - 8s 195ms/step - loss: 0.0380 - accuracy: 0.9876 - val_loss: 0.6041 - val_accuracy: 0.9478\n",
            "Epoch 48/150\n",
            "43/43 [==============================] - 9s 197ms/step - loss: 0.0329 - accuracy: 0.9945 - val_loss: 0.8468 - val_accuracy: 0.9451\n",
            "Epoch 49/150\n",
            "43/43 [==============================] - 8s 195ms/step - loss: 0.0193 - accuracy: 0.9971 - val_loss: 0.9415 - val_accuracy: 0.9368\n",
            "Epoch 50/150\n",
            "43/43 [==============================] - 9s 198ms/step - loss: 0.0290 - accuracy: 0.9939 - val_loss: 0.7745 - val_accuracy: 0.9478\n",
            "Epoch 51/150\n",
            "43/43 [==============================] - 8s 195ms/step - loss: 0.0207 - accuracy: 0.9955 - val_loss: 0.6412 - val_accuracy: 0.9478\n",
            "Epoch 52/150\n",
            "43/43 [==============================] - 8s 194ms/step - loss: 0.0142 - accuracy: 0.9963 - val_loss: 0.6912 - val_accuracy: 0.9396\n",
            "Epoch 53/150\n",
            "43/43 [==============================] - 8s 195ms/step - loss: 0.0210 - accuracy: 0.9908 - val_loss: 0.5616 - val_accuracy: 0.9423\n",
            "Epoch 54/150\n",
            "43/43 [==============================] - 8s 194ms/step - loss: 0.0093 - accuracy: 0.9981 - val_loss: 0.7887 - val_accuracy: 0.9505\n",
            "Epoch 55/150\n",
            "43/43 [==============================] - 8s 196ms/step - loss: 0.0245 - accuracy: 0.9928 - val_loss: 1.2649 - val_accuracy: 0.9368\n",
            "Epoch 56/150\n",
            "43/43 [==============================] - 8s 196ms/step - loss: 0.0029 - accuracy: 0.9994 - val_loss: 0.8452 - val_accuracy: 0.9231\n",
            "Epoch 57/150\n",
            "43/43 [==============================] - 9s 197ms/step - loss: 0.0067 - accuracy: 0.9962 - val_loss: 2.7008 - val_accuracy: 0.9451\n",
            "Epoch 58/150\n",
            "43/43 [==============================] - 8s 196ms/step - loss: 0.0406 - accuracy: 0.9898 - val_loss: 0.6580 - val_accuracy: 0.9313\n",
            "Epoch 59/150\n",
            "43/43 [==============================] - 8s 195ms/step - loss: 0.0236 - accuracy: 0.9930 - val_loss: 0.7910 - val_accuracy: 0.9478\n",
            "Epoch 60/150\n",
            "43/43 [==============================] - 8s 196ms/step - loss: 0.0106 - accuracy: 0.9986 - val_loss: 1.5785 - val_accuracy: 0.9368\n",
            "Epoch 61/150\n",
            "43/43 [==============================] - 8s 195ms/step - loss: 0.0233 - accuracy: 0.9950 - val_loss: 0.9138 - val_accuracy: 0.9423\n",
            "Epoch 62/150\n",
            "43/43 [==============================] - 8s 196ms/step - loss: 0.0327 - accuracy: 0.9941 - val_loss: 0.7628 - val_accuracy: 0.9451\n",
            "Epoch 63/150\n",
            "43/43 [==============================] - 8s 195ms/step - loss: 0.0115 - accuracy: 0.9973 - val_loss: 1.5725 - val_accuracy: 0.9286\n",
            "Epoch 64/150\n",
            "43/43 [==============================] - 8s 196ms/step - loss: 0.0463 - accuracy: 0.9911 - val_loss: 1.1253 - val_accuracy: 0.9478\n",
            "Epoch 65/150\n",
            "43/43 [==============================] - 8s 196ms/step - loss: 0.0051 - accuracy: 0.9987 - val_loss: 1.2185 - val_accuracy: 0.9368\n",
            "Epoch 66/150\n",
            "43/43 [==============================] - 8s 194ms/step - loss: 0.0525 - accuracy: 0.9930 - val_loss: 1.6079 - val_accuracy: 0.9176\n",
            "Epoch 67/150\n",
            "43/43 [==============================] - 8s 194ms/step - loss: 0.0245 - accuracy: 0.9905 - val_loss: 1.0489 - val_accuracy: 0.9451\n",
            "Epoch 68/150\n",
            "43/43 [==============================] - 8s 196ms/step - loss: 0.0518 - accuracy: 0.9924 - val_loss: 1.0344 - val_accuracy: 0.9478\n",
            "Epoch 69/150\n",
            "43/43 [==============================] - 8s 196ms/step - loss: 0.0404 - accuracy: 0.9882 - val_loss: 1.0534 - val_accuracy: 0.9478\n",
            "Epoch 70/150\n",
            "43/43 [==============================] - 8s 195ms/step - loss: 0.0678 - accuracy: 0.9918 - val_loss: 0.9322 - val_accuracy: 0.9423\n",
            "Epoch 71/150\n",
            "43/43 [==============================] - 8s 196ms/step - loss: 0.0278 - accuracy: 0.9944 - val_loss: 0.9040 - val_accuracy: 0.9533\n",
            "Epoch 72/150\n",
            "43/43 [==============================] - 8s 195ms/step - loss: 0.0436 - accuracy: 0.9922 - val_loss: 1.0623 - val_accuracy: 0.9505\n",
            "Epoch 73/150\n",
            "43/43 [==============================] - 8s 194ms/step - loss: 0.0090 - accuracy: 0.9982 - val_loss: 1.5031 - val_accuracy: 0.9313\n",
            "Epoch 74/150\n",
            "43/43 [==============================] - 8s 196ms/step - loss: 0.0194 - accuracy: 0.9949 - val_loss: 1.1205 - val_accuracy: 0.9505\n",
            "Epoch 75/150\n",
            "43/43 [==============================] - 8s 196ms/step - loss: 0.0924 - accuracy: 0.9913 - val_loss: 0.9043 - val_accuracy: 0.9368\n",
            "Epoch 76/150\n",
            "43/43 [==============================] - 8s 195ms/step - loss: 0.0237 - accuracy: 0.9949 - val_loss: 1.3792 - val_accuracy: 0.9368\n",
            "Epoch 77/150\n",
            "43/43 [==============================] - 8s 194ms/step - loss: 0.0196 - accuracy: 0.9963 - val_loss: 0.8366 - val_accuracy: 0.9505\n",
            "Epoch 78/150\n",
            "43/43 [==============================] - 8s 194ms/step - loss: 0.0148 - accuracy: 0.9917 - val_loss: 0.9772 - val_accuracy: 0.9396\n",
            "Epoch 79/150\n",
            "43/43 [==============================] - 8s 194ms/step - loss: 0.0402 - accuracy: 0.9956 - val_loss: 0.9660 - val_accuracy: 0.9451\n",
            "Epoch 80/150\n",
            "43/43 [==============================] - 8s 194ms/step - loss: 0.0032 - accuracy: 0.9996 - val_loss: 1.3784 - val_accuracy: 0.9560\n",
            "Epoch 81/150\n",
            "43/43 [==============================] - 8s 195ms/step - loss: 0.0440 - accuracy: 0.9944 - val_loss: 1.4422 - val_accuracy: 0.9533\n",
            "Epoch 82/150\n",
            "43/43 [==============================] - 8s 195ms/step - loss: 0.0121 - accuracy: 0.9991 - val_loss: 1.2432 - val_accuracy: 0.9505\n",
            "Epoch 83/150\n",
            "43/43 [==============================] - 8s 196ms/step - loss: 0.0014 - accuracy: 1.0000 - val_loss: 1.6759 - val_accuracy: 0.9533\n",
            "Epoch 84/150\n",
            "43/43 [==============================] - 8s 197ms/step - loss: 0.0373 - accuracy: 0.9930 - val_loss: 1.1070 - val_accuracy: 0.9423\n",
            "Epoch 85/150\n",
            "43/43 [==============================] - 8s 194ms/step - loss: 0.0421 - accuracy: 0.9934 - val_loss: 2.0148 - val_accuracy: 0.9231\n",
            "Epoch 86/150\n",
            "43/43 [==============================] - 8s 195ms/step - loss: 0.0487 - accuracy: 0.9945 - val_loss: 1.6553 - val_accuracy: 0.9533\n",
            "Epoch 87/150\n",
            "43/43 [==============================] - 8s 194ms/step - loss: 0.1178 - accuracy: 0.9922 - val_loss: 1.0806 - val_accuracy: 0.9478\n",
            "Epoch 88/150\n",
            "43/43 [==============================] - 8s 192ms/step - loss: 0.0207 - accuracy: 0.9922 - val_loss: 1.7947 - val_accuracy: 0.9231\n",
            "Epoch 89/150\n",
            "43/43 [==============================] - 8s 194ms/step - loss: 0.0061 - accuracy: 0.9963 - val_loss: 1.5219 - val_accuracy: 0.9478\n",
            "Epoch 90/150\n",
            "43/43 [==============================] - 8s 195ms/step - loss: 0.0251 - accuracy: 0.9958 - val_loss: 0.8162 - val_accuracy: 0.9505\n",
            "Epoch 91/150\n",
            "43/43 [==============================] - 8s 193ms/step - loss: 0.0077 - accuracy: 0.9983 - val_loss: 1.5779 - val_accuracy: 0.9231\n",
            "Epoch 92/150\n",
            "43/43 [==============================] - 8s 194ms/step - loss: 0.0521 - accuracy: 0.9934 - val_loss: 0.7852 - val_accuracy: 0.9560\n",
            "Epoch 93/150\n",
            "43/43 [==============================] - 8s 195ms/step - loss: 0.0127 - accuracy: 0.9972 - val_loss: 0.9327 - val_accuracy: 0.9423\n",
            "Epoch 94/150\n",
            "43/43 [==============================] - 8s 196ms/step - loss: 0.0125 - accuracy: 0.9952 - val_loss: 1.3836 - val_accuracy: 0.9505\n",
            "Epoch 95/150\n",
            "43/43 [==============================] - 8s 196ms/step - loss: 0.0342 - accuracy: 0.9925 - val_loss: 0.9408 - val_accuracy: 0.9341\n",
            "Epoch 96/150\n",
            "43/43 [==============================] - 8s 198ms/step - loss: 0.0519 - accuracy: 0.9928 - val_loss: 0.7700 - val_accuracy: 0.9505\n",
            "Epoch 97/150\n",
            "43/43 [==============================] - 8s 195ms/step - loss: 0.0029 - accuracy: 0.9998 - val_loss: 0.7086 - val_accuracy: 0.9396\n",
            "Epoch 98/150\n",
            "43/43 [==============================] - 8s 195ms/step - loss: 0.0023 - accuracy: 1.0000 - val_loss: 1.4511 - val_accuracy: 0.9368\n",
            "Epoch 99/150\n",
            "43/43 [==============================] - 8s 196ms/step - loss: 0.0053 - accuracy: 0.9989 - val_loss: 1.0241 - val_accuracy: 0.9533\n",
            "Epoch 100/150\n",
            "43/43 [==============================] - 8s 195ms/step - loss: 0.0172 - accuracy: 0.9982 - val_loss: 1.0604 - val_accuracy: 0.9588\n",
            "Epoch 101/150\n",
            "43/43 [==============================] - 8s 194ms/step - loss: 0.0035 - accuracy: 0.9985 - val_loss: 1.1467 - val_accuracy: 0.9505\n",
            "Epoch 102/150\n",
            "43/43 [==============================] - 8s 194ms/step - loss: 0.0249 - accuracy: 0.9959 - val_loss: 1.2062 - val_accuracy: 0.9505\n",
            "Epoch 103/150\n",
            "43/43 [==============================] - 8s 195ms/step - loss: 0.0053 - accuracy: 0.9989 - val_loss: 1.2297 - val_accuracy: 0.9505\n",
            "Epoch 104/150\n",
            "43/43 [==============================] - 8s 194ms/step - loss: 0.0013 - accuracy: 0.9996 - val_loss: 1.7006 - val_accuracy: 0.9313\n",
            "Epoch 105/150\n",
            "43/43 [==============================] - 9s 198ms/step - loss: 0.0397 - accuracy: 0.9968 - val_loss: 1.4284 - val_accuracy: 0.9533\n",
            "Epoch 106/150\n",
            "43/43 [==============================] - 8s 195ms/step - loss: 0.0080 - accuracy: 0.9943 - val_loss: 5.5322 - val_accuracy: 0.9341\n",
            "Epoch 107/150\n",
            "43/43 [==============================] - 8s 195ms/step - loss: 0.1078 - accuracy: 0.9848 - val_loss: 1.6595 - val_accuracy: 0.9478\n",
            "Epoch 108/150\n",
            "43/43 [==============================] - 8s 194ms/step - loss: 0.0094 - accuracy: 0.9974 - val_loss: 1.9555 - val_accuracy: 0.9588\n",
            "Epoch 109/150\n",
            "43/43 [==============================] - 8s 194ms/step - loss: 0.0247 - accuracy: 0.9951 - val_loss: 1.4528 - val_accuracy: 0.9560\n",
            "Epoch 110/150\n",
            "43/43 [==============================] - 8s 194ms/step - loss: 0.0351 - accuracy: 0.9942 - val_loss: 1.8619 - val_accuracy: 0.9643\n",
            "Epoch 111/150\n",
            "43/43 [==============================] - 8s 196ms/step - loss: 0.0176 - accuracy: 0.9973 - val_loss: 1.4451 - val_accuracy: 0.9451\n",
            "Epoch 112/150\n",
            "43/43 [==============================] - 8s 196ms/step - loss: 0.0452 - accuracy: 0.9951 - val_loss: 0.8775 - val_accuracy: 0.9533\n",
            "Epoch 113/150\n",
            "43/43 [==============================] - 8s 194ms/step - loss: 0.0237 - accuracy: 0.9924 - val_loss: 1.3686 - val_accuracy: 0.9533\n",
            "Epoch 114/150\n",
            "43/43 [==============================] - 8s 194ms/step - loss: 0.0215 - accuracy: 0.9962 - val_loss: 1.5531 - val_accuracy: 0.9451\n",
            "Epoch 115/150\n",
            "43/43 [==============================] - 8s 194ms/step - loss: 0.0181 - accuracy: 0.9961 - val_loss: 2.3808 - val_accuracy: 0.9478\n",
            "Epoch 116/150\n",
            "43/43 [==============================] - 8s 193ms/step - loss: 0.0160 - accuracy: 0.9965 - val_loss: 1.5729 - val_accuracy: 0.9478\n",
            "Epoch 117/150\n",
            "43/43 [==============================] - 8s 195ms/step - loss: 0.0045 - accuracy: 0.9983 - val_loss: 1.7642 - val_accuracy: 0.9368\n",
            "Epoch 118/150\n",
            "43/43 [==============================] - 8s 193ms/step - loss: 0.0723 - accuracy: 0.9923 - val_loss: 1.1757 - val_accuracy: 0.9368\n",
            "Epoch 119/150\n",
            "43/43 [==============================] - 8s 198ms/step - loss: 0.0808 - accuracy: 0.9899 - val_loss: 0.7859 - val_accuracy: 0.9423\n",
            "Epoch 120/150\n",
            "43/43 [==============================] - 8s 195ms/step - loss: 0.0159 - accuracy: 0.9943 - val_loss: 1.6012 - val_accuracy: 0.9533\n",
            "Epoch 121/150\n",
            "43/43 [==============================] - 8s 194ms/step - loss: 0.0616 - accuracy: 0.9957 - val_loss: 1.5968 - val_accuracy: 0.9478\n",
            "Epoch 122/150\n",
            "43/43 [==============================] - 8s 194ms/step - loss: 0.0392 - accuracy: 0.9933 - val_loss: 1.0982 - val_accuracy: 0.9368\n",
            "Epoch 123/150\n",
            "43/43 [==============================] - 8s 193ms/step - loss: 0.0116 - accuracy: 0.9975 - val_loss: 1.2874 - val_accuracy: 0.9396\n",
            "Epoch 124/150\n",
            "43/43 [==============================] - 8s 195ms/step - loss: 0.0173 - accuracy: 0.9956 - val_loss: 1.1461 - val_accuracy: 0.9396\n",
            "Epoch 125/150\n",
            "43/43 [==============================] - 8s 193ms/step - loss: 0.0078 - accuracy: 0.9977 - val_loss: 2.4829 - val_accuracy: 0.9451\n",
            "Epoch 126/150\n",
            "43/43 [==============================] - 8s 193ms/step - loss: 0.0730 - accuracy: 0.9918 - val_loss: 1.9900 - val_accuracy: 0.9505\n",
            "Epoch 127/150\n",
            "43/43 [==============================] - 8s 192ms/step - loss: 0.0211 - accuracy: 0.9968 - val_loss: 2.2547 - val_accuracy: 0.9396\n",
            "Epoch 128/150\n",
            "43/43 [==============================] - 8s 193ms/step - loss: 0.0389 - accuracy: 0.9930 - val_loss: 1.7639 - val_accuracy: 0.9478\n",
            "Epoch 129/150\n",
            "43/43 [==============================] - 8s 192ms/step - loss: 0.1212 - accuracy: 0.9951 - val_loss: 1.1668 - val_accuracy: 0.9451\n",
            "Epoch 130/150\n",
            "43/43 [==============================] - 8s 195ms/step - loss: 0.0078 - accuracy: 0.9978 - val_loss: 1.6279 - val_accuracy: 0.9451\n",
            "Epoch 131/150\n",
            "43/43 [==============================] - 8s 196ms/step - loss: 0.0089 - accuracy: 0.9961 - val_loss: 3.3534 - val_accuracy: 0.9451\n",
            "Epoch 132/150\n",
            "43/43 [==============================] - 8s 195ms/step - loss: 0.0794 - accuracy: 0.9910 - val_loss: 0.9996 - val_accuracy: 0.9505\n",
            "Epoch 133/150\n",
            "43/43 [==============================] - 8s 194ms/step - loss: 0.0139 - accuracy: 0.9944 - val_loss: 2.3591 - val_accuracy: 0.9451\n",
            "Epoch 134/150\n",
            "43/43 [==============================] - 8s 193ms/step - loss: 0.0022 - accuracy: 0.9998 - val_loss: 1.9133 - val_accuracy: 0.9478\n",
            "Epoch 135/150\n",
            "43/43 [==============================] - 8s 193ms/step - loss: 0.0223 - accuracy: 0.9970 - val_loss: 1.4187 - val_accuracy: 0.9478\n",
            "Epoch 136/150\n",
            "43/43 [==============================] - 8s 193ms/step - loss: 0.1028 - accuracy: 0.9850 - val_loss: 0.9716 - val_accuracy: 0.9423\n",
            "Epoch 137/150\n",
            "43/43 [==============================] - 8s 193ms/step - loss: 0.0235 - accuracy: 0.9944 - val_loss: 1.6473 - val_accuracy: 0.9505\n",
            "Epoch 138/150\n",
            "43/43 [==============================] - 8s 193ms/step - loss: 0.0267 - accuracy: 0.9983 - val_loss: 1.4182 - val_accuracy: 0.9341\n",
            "Epoch 139/150\n",
            "43/43 [==============================] - 8s 194ms/step - loss: 0.0062 - accuracy: 0.9984 - val_loss: 1.1459 - val_accuracy: 0.9231\n",
            "Epoch 140/150\n",
            "43/43 [==============================] - 8s 192ms/step - loss: 0.0765 - accuracy: 0.9907 - val_loss: 1.0309 - val_accuracy: 0.9478\n",
            "Epoch 141/150\n",
            "43/43 [==============================] - 8s 195ms/step - loss: 0.0161 - accuracy: 0.9969 - val_loss: 1.4869 - val_accuracy: 0.9533\n",
            "Epoch 142/150\n",
            "43/43 [==============================] - 8s 194ms/step - loss: 0.0461 - accuracy: 0.9953 - val_loss: 1.9670 - val_accuracy: 0.9396\n",
            "Epoch 143/150\n",
            "43/43 [==============================] - 8s 194ms/step - loss: 0.0111 - accuracy: 0.9950 - val_loss: 2.1046 - val_accuracy: 0.9533\n",
            "Epoch 144/150\n",
            "43/43 [==============================] - 8s 193ms/step - loss: 0.1167 - accuracy: 0.9908 - val_loss: 1.7330 - val_accuracy: 0.9478\n",
            "Epoch 145/150\n",
            "43/43 [==============================] - 8s 192ms/step - loss: 0.0208 - accuracy: 0.9942 - val_loss: 0.9253 - val_accuracy: 0.9368\n",
            "Epoch 146/150\n",
            "43/43 [==============================] - 8s 194ms/step - loss: 0.0063 - accuracy: 0.9983 - val_loss: 2.8737 - val_accuracy: 0.9396\n",
            "Epoch 147/150\n",
            "43/43 [==============================] - 8s 193ms/step - loss: 0.0318 - accuracy: 0.9936 - val_loss: 2.0705 - val_accuracy: 0.9478\n",
            "Epoch 148/150\n",
            "43/43 [==============================] - 8s 195ms/step - loss: 0.0691 - accuracy: 0.9904 - val_loss: 2.2632 - val_accuracy: 0.9396\n",
            "Epoch 149/150\n",
            "43/43 [==============================] - 8s 192ms/step - loss: 0.1235 - accuracy: 0.9890 - val_loss: 1.3531 - val_accuracy: 0.9368\n",
            "Epoch 150/150\n",
            "43/43 [==============================] - 8s 193ms/step - loss: 0.0028 - accuracy: 0.9995 - val_loss: 4.0505 - val_accuracy: 0.9478\n"
          ],
          "name": "stdout"
        }
      ]
    },
    {
      "cell_type": "code",
      "metadata": {
        "id": "UV-VPb-lA3jc"
      },
      "source": [
        ""
      ],
      "execution_count": null,
      "outputs": []
    },
    {
      "cell_type": "code",
      "metadata": {
        "id": "P0Fk-e8wA3jd",
        "colab": {
          "base_uri": "https://localhost:8080/",
          "height": 308
        },
        "outputId": "9714efe0-0e52-4d10-8025-cdfa6027fe54"
      },
      "source": [
        "f, (ax1, ax2) = plt.subplots(1, 2, figsize=(12, 4))\n",
        "t = f.suptitle('Pre-trained CNN (Transfer Learning) Performance', fontsize=12)\n",
        "f.subplots_adjust(top=0.85, wspace=0.3)\n",
        "\n",
        "epoch_list = list(range(1,151))\n",
        "ax1.plot(epoch_list, history.history['accuracy'], label='Train Accuracy')\n",
        "ax1.plot(epoch_list, history.history['val_accuracy'], label='Validation Accuracy')\n",
        "ax1.set_xticks(np.arange(0, 151, 5))\n",
        "ax1.set_ylabel('Accuracy Value')\n",
        "ax1.set_xlabel('Epoch')\n",
        "ax1.set_title('Accuracy')\n",
        "l1 = ax1.legend(loc=\"best\")\n",
        "\n",
        "ax2.plot(epoch_list, history.history['loss'], label='Train Loss')\n",
        "ax2.plot(epoch_list, history.history['val_loss'], label='Validation Loss')\n",
        "ax2.set_xticks(np.arange(0, 151, 5))\n",
        "ax2.set_ylabel('Loss Value')\n",
        "ax2.set_xlabel('Epoch')\n",
        "ax2.set_title('Loss')\n",
        "l2 = ax2.legend(loc=\"best\")"
      ],
      "execution_count": 20,
      "outputs": [
        {
          "output_type": "display_data",
          "data": {
            "image/png": "[encoded data removed]",
            "text/plain": [
              "<Figure size 864x288 with 2 Axes>"
            ]
          },
          "metadata": {
            "tags": [],
            "needs_background": "light"
          }
        }
      ]
    },
    {
      "cell_type": "code",
      "metadata": {
        "id": "wHLV0XfKA3jd"
      },
      "source": [
        "model.save('3_Aug_pretrained_cnn.h5')"
      ],
      "execution_count": 22,
      "outputs": []
    },
    {
      "cell_type": "code",
      "metadata": {
        "id": "eBjX3kbpA3je"
      },
      "source": [
        ""
      ],
      "execution_count": null,
      "outputs": []
    },
    {
      "cell_type": "code",
      "metadata": {
        "id": "3IaOWSbaA3je"
      },
      "source": [
        ""
      ],
      "execution_count": null,
      "outputs": []
    },
    {
      "cell_type": "code",
      "metadata": {
        "id": "Q7SzUeawA3jn"
      },
      "source": [
        ""
      ],
      "execution_count": null,
      "outputs": []
    }
  ]
}