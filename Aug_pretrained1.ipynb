{
  "nbformat": 4,
  "nbformat_minor": 0,
  "metadata": {
    "kernelspec": {
      "display_name": "Python 3",
      "language": "python",
      "name": "python3"
    },
    "language_info": {
      "codemirror_mode": {
        "name": "ipython",
        "version": 3
      },
      "file_extension": ".py",
      "mimetype": "text/x-python",
      "name": "python",
      "nbconvert_exporter": "python",
      "pygments_lexer": "ipython3",
      "version": "3.7.6"
    },
    "colab": {
      "name": "Aug-pretrained.ipynb",
      "provenance": [],
      "collapsed_sections": [],
      "include_colab_link": true
    },
    "accelerator": "GPU"
  },
  "cells": [
    {
      "cell_type": "markdown",
      "metadata": {
        "id": "view-in-github",
        "colab_type": "text"
      },
      "source": [
        "<a href=\"https://colab.research.google.com/github/0201shj/CNN-Daisy-Dandelion/blob/main/Aug_pretrained1.ipynb\" target=\"_parent\"><img src=\"https://colab.research.google.com/assets/colab-badge.svg\" alt=\"Open In Colab\"/></a>"
      ]
    },
    {
      "cell_type": "code",
      "metadata": {
        "colab": {
          "base_uri": "https://localhost:8080/"
        },
        "id": "22mg_PXnCKsU",
        "outputId": "06a1380c-6668-43b2-d9c3-de9fba31de53"
      },
      "source": [
        "from google.colab import drive\n",
        "drive.mount('/content/drive')"
      ],
      "execution_count": 2,
      "outputs": [
        {
          "output_type": "stream",
          "text": [
            "Drive already mounted at /content/drive; to attempt to forcibly remount, call drive.mount(\"/content/drive\", force_remount=True).\n"
          ],
          "name": "stdout"
        }
      ]
    },
    {
      "cell_type": "code",
      "metadata": {
        "id": "6giq8ls1A3jN"
      },
      "source": [
        "%matplotlib inline"
      ],
      "execution_count": 1,
      "outputs": []
    },
    {
      "cell_type": "code",
      "metadata": {
        "id": "B9GBtXmwA47m",
        "colab": {
          "base_uri": "https://localhost:8080/"
        },
        "outputId": "1a09d58a-2d38-4d30-ab69-21e48337fad0"
      },
      "source": [
        "!ls -l"
      ],
      "execution_count": 3,
      "outputs": [
        {
          "output_type": "stream",
          "text": [
            "total 61920\n",
            "drwx------ 5 root root     4096 Jan 25 07:11 drive\n",
            "-rw------- 1 root root 63392390 Jan 25 06:58 flower.zip\n",
            "drwxr-xr-x 1 root root     4096 Jan 20 17:27 sample_data\n"
          ],
          "name": "stdout"
        }
      ]
    },
    {
      "cell_type": "code",
      "metadata": {
        "id": "AEJfrotXA58E"
      },
      "source": [
        "!unzip flower.zip"
      ],
      "execution_count": null,
      "outputs": []
    },
    {
      "cell_type": "code",
      "metadata": {
        "id": "O5M05p_pA5rd"
      },
      "source": [
        ""
      ],
      "execution_count": null,
      "outputs": []
    },
    {
      "cell_type": "code",
      "metadata": {
        "id": "KPy5I5SBA3jW"
      },
      "source": [
        "import glob\n",
        "import numpy as np\n",
        "import matplotlib.pyplot as plt\n",
        "from tensorflow.keras.preprocessing.image import ImageDataGenerator, load_img, img_to_array, array_to_img"
      ],
      "execution_count": 5,
      "outputs": []
    },
    {
      "cell_type": "code",
      "metadata": {
        "id": "eZImnfGOA3jX",
        "colab": {
          "base_uri": "https://localhost:8080/"
        },
        "outputId": "22bff9e5-3d1c-4c4c-a08f-ad1751251dda"
      },
      "source": [
        "IMG_DIM = (150, 150)\n",
        "\n",
        "train_files = glob.glob('training_data/*')\n",
        "train_imgs = [img_to_array(load_img(img, target_size=IMG_DIM)) for img in train_files]\n",
        "train_imgs = np.array(train_imgs)\n",
        "train_labels = [fn.split('/')[1].split('.')[0].strip() for fn in train_files]\n",
        "\n",
        "validation_files = glob.glob('validation_data/*')\n",
        "validation_imgs = [img_to_array(load_img(img, target_size=IMG_DIM)) for img in validation_files]\n",
        "validation_imgs = np.array(validation_imgs)\n",
        "validation_labels = [fn.split('/')[1].split('.')[0].strip() for fn in validation_files]\n",
        "\n",
        "print('Train dataset shape:', train_imgs.shape, \n",
        "      '\\tValidation dataset shape:', validation_imgs.shape)"
      ],
      "execution_count": 6,
      "outputs": [
        {
          "output_type": "stream",
          "text": [
            "Train dataset shape: (1275, 150, 150, 3) \tValidation dataset shape: (364, 150, 150, 3)\n"
          ],
          "name": "stdout"
        }
      ]
    },
    {
      "cell_type": "code",
      "metadata": {
        "id": "OiDa5o60A3jX"
      },
      "source": [
        "train_imgs_scaled = train_imgs.astype('float32')\n",
        "validation_imgs_scaled = validation_imgs.astype('float32')\n",
        "train_imgs_scaled /= 255\n",
        "validation_imgs_scaled /= 255"
      ],
      "execution_count": 7,
      "outputs": []
    },
    {
      "cell_type": "code",
      "metadata": {
        "id": "COLKZn79A3jY",
        "colab": {
          "base_uri": "https://localhost:8080/"
        },
        "outputId": "d5b76111-6297-47d5-88a7-ba76b45cbf4d"
      },
      "source": [
        "batch_size = 50\n",
        "num_classes = 2\n",
        "epochs = 150\n",
        "input_shape = (150, 150, 3)\n",
        "\n",
        "from sklearn.preprocessing import LabelEncoder\n",
        "\n",
        "le = LabelEncoder()\n",
        "le.fit(train_labels)\n",
        "# encode wine type labels\n",
        "train_labels_enc = le.transform(train_labels)\n",
        "validation_labels_enc = le.transform(validation_labels)\n",
        "\n",
        "print(train_labels[0:5], train_labels_enc[0:5])"
      ],
      "execution_count": 8,
      "outputs": [
        {
          "output_type": "stream",
          "text": [
            "['daisy', 'dandelion', 'dandelion', 'daisy', 'dandelion'] [0 1 1 0 1]\n"
          ],
          "name": "stdout"
        }
      ]
    },
    {
      "cell_type": "code",
      "metadata": {
        "id": "Ieppy25xFE_N"
      },
      "source": [
        ""
      ],
      "execution_count": null,
      "outputs": []
    },
    {
      "cell_type": "code",
      "metadata": {
        "id": "j0wF41XlFEu9"
      },
      "source": [
        "train_datagen = ImageDataGenerator( zoom_range=0.3, rotation_range=50,  # rescale=1./255,\r\n",
        "                                   width_shift_range=0.2, height_shift_range=0.2, shear_range=0.2, \r\n",
        "                                   horizontal_flip=True, fill_mode='nearest')\r\n",
        "\r\n",
        "val_datagen = ImageDataGenerator() # rescale=1./255\r\n",
        "\r\n",
        "train_generator = train_datagen.flow(train_imgs, train_labels_enc, batch_size=30)\r\n",
        "val_generator = val_datagen.flow(validation_imgs, validation_labels_enc, batch_size=20)"
      ],
      "execution_count": 9,
      "outputs": []
    },
    {
      "cell_type": "code",
      "metadata": {
        "id": "wDDCzCWzFEDf"
      },
      "source": [
        ""
      ],
      "execution_count": null,
      "outputs": []
    },
    {
      "cell_type": "code",
      "metadata": {
        "id": "9fVVMivMA3jZ",
        "colab": {
          "base_uri": "https://localhost:8080/"
        },
        "outputId": "2d819138-3d65-4958-c4fd-9d81d1c745c1"
      },
      "source": [
        "from tensorflow.keras.applications import vgg16\n",
        "from tensorflow.keras.models import Model\n",
        "import tensorflow.keras\n",
        "\n",
        "vgg = vgg16.VGG16(include_top=False, weights='imagenet',\n",
        "                                     input_shape=input_shape)\n",
        "\n",
        "output = vgg.layers[-1].output\n",
        "output = tensorflow.keras.layers.Flatten()(output)\n",
        "\n",
        "vgg_model = Model(vgg.input, output)\n",
        "vgg_model.trainable = False\n",
        "\n",
        "for layer in vgg_model.layers:\n",
        "    layer.trainable = False\n",
        "\n",
        "vgg_model.summary()\n"
      ],
      "execution_count": 10,
      "outputs": [
        {
          "output_type": "stream",
          "text": [
            "Downloading data from https://storage.googleapis.com/tensorflow/keras-applications/vgg16/vgg16_weights_tf_dim_ordering_tf_kernels_notop.h5\n",
            "58892288/58889256 [==============================] - 1s 0us/step\n",
            "Model: \"model\"\n",
            "_________________________________________________________________\n",
            "Layer (type)                 Output Shape              Param #   \n",
            "=================================================================\n",
            "input_1 (InputLayer)         [(None, 150, 150, 3)]     0         \n",
            "_________________________________________________________________\n",
            "block1_conv1 (Conv2D)        (None, 150, 150, 64)      1792      \n",
            "_________________________________________________________________\n",
            "block1_conv2 (Conv2D)        (None, 150, 150, 64)      36928     \n",
            "_________________________________________________________________\n",
            "block1_pool (MaxPooling2D)   (None, 75, 75, 64)        0         \n",
            "_________________________________________________________________\n",
            "block2_conv1 (Conv2D)        (None, 75, 75, 128)       73856     \n",
            "_________________________________________________________________\n",
            "block2_conv2 (Conv2D)        (None, 75, 75, 128)       147584    \n",
            "_________________________________________________________________\n",
            "block2_pool (MaxPooling2D)   (None, 37, 37, 128)       0         \n",
            "_________________________________________________________________\n",
            "block3_conv1 (Conv2D)        (None, 37, 37, 256)       295168    \n",
            "_________________________________________________________________\n",
            "block3_conv2 (Conv2D)        (None, 37, 37, 256)       590080    \n",
            "_________________________________________________________________\n",
            "block3_conv3 (Conv2D)        (None, 37, 37, 256)       590080    \n",
            "_________________________________________________________________\n",
            "block3_pool (MaxPooling2D)   (None, 18, 18, 256)       0         \n",
            "_________________________________________________________________\n",
            "block4_conv1 (Conv2D)        (None, 18, 18, 512)       1180160   \n",
            "_________________________________________________________________\n",
            "block4_conv2 (Conv2D)        (None, 18, 18, 512)       2359808   \n",
            "_________________________________________________________________\n",
            "block4_conv3 (Conv2D)        (None, 18, 18, 512)       2359808   \n",
            "_________________________________________________________________\n",
            "block4_pool (MaxPooling2D)   (None, 9, 9, 512)         0         \n",
            "_________________________________________________________________\n",
            "block5_conv1 (Conv2D)        (None, 9, 9, 512)         2359808   \n",
            "_________________________________________________________________\n",
            "block5_conv2 (Conv2D)        (None, 9, 9, 512)         2359808   \n",
            "_________________________________________________________________\n",
            "block5_conv3 (Conv2D)        (None, 9, 9, 512)         2359808   \n",
            "_________________________________________________________________\n",
            "block5_pool (MaxPooling2D)   (None, 4, 4, 512)         0         \n",
            "_________________________________________________________________\n",
            "flatten (Flatten)            (None, 8192)              0         \n",
            "=================================================================\n",
            "Total params: 14,714,688\n",
            "Trainable params: 0\n",
            "Non-trainable params: 14,714,688\n",
            "_________________________________________________________________\n"
          ],
          "name": "stdout"
        }
      ]
    },
    {
      "cell_type": "code",
      "metadata": {
        "id": "T9SDjC3EA3jZ",
        "colab": {
          "base_uri": "https://localhost:8080/",
          "height": 694
        },
        "outputId": "4bfbf7a5-5a91-4952-b8e8-1769ac07794a"
      },
      "source": [
        "import pandas as pd\n",
        "pd.set_option('max_colwidth', -1)\n",
        "\n",
        "layers = [(layer, layer.name, layer.trainable) for layer in vgg_model.layers]\n",
        "pd.DataFrame(layers, columns=['Layer Type', 'Layer Name', 'Layer Trainable'])"
      ],
      "execution_count": 11,
      "outputs": [
        {
          "output_type": "stream",
          "text": [
            "/usr/local/lib/python3.6/dist-packages/ipykernel_launcher.py:2: FutureWarning: Passing a negative integer is deprecated in version 1.0 and will not be supported in future version. Instead, use None to not limit the column width.\n",
            "  \n"
          ],
          "name": "stderr"
        },
        {
          "output_type": "execute_result",
          "data": {
            "text/html": [
              "<div>\n",
              "<style scoped>\n",
              "    .dataframe tbody tr th:only-of-type {\n",
              "        vertical-align: middle;\n",
              "    }\n",
              "\n",
              "    .dataframe tbody tr th {\n",
              "        vertical-align: top;\n",
              "    }\n",
              "\n",
              "    .dataframe thead th {\n",
              "        text-align: right;\n",
              "    }\n",
              "</style>\n",
              "<table border=\"1\" class=\"dataframe\">\n",
              "  <thead>\n",
              "    <tr style=\"text-align: right;\">\n",
              "      <th></th>\n",
              "      <th>Layer Type</th>\n",
              "      <th>Layer Name</th>\n",
              "      <th>Layer Trainable</th>\n",
              "    </tr>\n",
              "  </thead>\n",
              "  <tbody>\n",
              "    <tr>\n",
              "      <th>0</th>\n",
              "      <td>&lt;tensorflow.python.keras.engine.input_layer.InputLayer object at 0x7f262f54f5f8&gt;</td>\n",
              "      <td>input_1</td>\n",
              "      <td>False</td>\n",
              "    </tr>\n",
              "    <tr>\n",
              "      <th>1</th>\n",
              "      <td>&lt;tensorflow.python.keras.layers.convolutional.Conv2D object at 0x7f262f2c1c88&gt;</td>\n",
              "      <td>block1_conv1</td>\n",
              "      <td>False</td>\n",
              "    </tr>\n",
              "    <tr>\n",
              "      <th>2</th>\n",
              "      <td>&lt;tensorflow.python.keras.layers.convolutional.Conv2D object at 0x7f262ea6def0&gt;</td>\n",
              "      <td>block1_conv2</td>\n",
              "      <td>False</td>\n",
              "    </tr>\n",
              "    <tr>\n",
              "      <th>3</th>\n",
              "      <td>&lt;tensorflow.python.keras.layers.pooling.MaxPooling2D object at 0x7f262ea4be48&gt;</td>\n",
              "      <td>block1_pool</td>\n",
              "      <td>False</td>\n",
              "    </tr>\n",
              "    <tr>\n",
              "      <th>4</th>\n",
              "      <td>&lt;tensorflow.python.keras.layers.convolutional.Conv2D object at 0x7f262ea53f98&gt;</td>\n",
              "      <td>block2_conv1</td>\n",
              "      <td>False</td>\n",
              "    </tr>\n",
              "    <tr>\n",
              "      <th>5</th>\n",
              "      <td>&lt;tensorflow.python.keras.layers.convolutional.Conv2D object at 0x7f262ea59d30&gt;</td>\n",
              "      <td>block2_conv2</td>\n",
              "      <td>False</td>\n",
              "    </tr>\n",
              "    <tr>\n",
              "      <th>6</th>\n",
              "      <td>&lt;tensorflow.python.keras.layers.pooling.MaxPooling2D object at 0x7f262ea597b8&gt;</td>\n",
              "      <td>block2_pool</td>\n",
              "      <td>False</td>\n",
              "    </tr>\n",
              "    <tr>\n",
              "      <th>7</th>\n",
              "      <td>&lt;tensorflow.python.keras.layers.convolutional.Conv2D object at 0x7f262ea66390&gt;</td>\n",
              "      <td>block3_conv1</td>\n",
              "      <td>False</td>\n",
              "    </tr>\n",
              "    <tr>\n",
              "      <th>8</th>\n",
              "      <td>&lt;tensorflow.python.keras.layers.convolutional.Conv2D object at 0x7f25d6022320&gt;</td>\n",
              "      <td>block3_conv2</td>\n",
              "      <td>False</td>\n",
              "    </tr>\n",
              "    <tr>\n",
              "      <th>9</th>\n",
              "      <td>&lt;tensorflow.python.keras.layers.convolutional.Conv2D object at 0x7f262ea66c88&gt;</td>\n",
              "      <td>block3_conv3</td>\n",
              "      <td>False</td>\n",
              "    </tr>\n",
              "    <tr>\n",
              "      <th>10</th>\n",
              "      <td>&lt;tensorflow.python.keras.layers.pooling.MaxPooling2D object at 0x7f25d602aeb8&gt;</td>\n",
              "      <td>block3_pool</td>\n",
              "      <td>False</td>\n",
              "    </tr>\n",
              "    <tr>\n",
              "      <th>11</th>\n",
              "      <td>&lt;tensorflow.python.keras.layers.convolutional.Conv2D object at 0x7f25d6030c88&gt;</td>\n",
              "      <td>block4_conv1</td>\n",
              "      <td>False</td>\n",
              "    </tr>\n",
              "    <tr>\n",
              "      <th>12</th>\n",
              "      <td>&lt;tensorflow.python.keras.layers.convolutional.Conv2D object at 0x7f25d6036eb8&gt;</td>\n",
              "      <td>block4_conv2</td>\n",
              "      <td>False</td>\n",
              "    </tr>\n",
              "    <tr>\n",
              "      <th>13</th>\n",
              "      <td>&lt;tensorflow.python.keras.layers.convolutional.Conv2D object at 0x7f25d60309e8&gt;</td>\n",
              "      <td>block4_conv3</td>\n",
              "      <td>False</td>\n",
              "    </tr>\n",
              "    <tr>\n",
              "      <th>14</th>\n",
              "      <td>&lt;tensorflow.python.keras.layers.pooling.MaxPooling2D object at 0x7f25d603fac8&gt;</td>\n",
              "      <td>block4_pool</td>\n",
              "      <td>False</td>\n",
              "    </tr>\n",
              "    <tr>\n",
              "      <th>15</th>\n",
              "      <td>&lt;tensorflow.python.keras.layers.convolutional.Conv2D object at 0x7f25d6042a20&gt;</td>\n",
              "      <td>block5_conv1</td>\n",
              "      <td>False</td>\n",
              "    </tr>\n",
              "    <tr>\n",
              "      <th>16</th>\n",
              "      <td>&lt;tensorflow.python.keras.layers.convolutional.Conv2D object at 0x7f25d6042080&gt;</td>\n",
              "      <td>block5_conv2</td>\n",
              "      <td>False</td>\n",
              "    </tr>\n",
              "    <tr>\n",
              "      <th>17</th>\n",
              "      <td>&lt;tensorflow.python.keras.layers.convolutional.Conv2D object at 0x7f25d6030898&gt;</td>\n",
              "      <td>block5_conv3</td>\n",
              "      <td>False</td>\n",
              "    </tr>\n",
              "    <tr>\n",
              "      <th>18</th>\n",
              "      <td>&lt;tensorflow.python.keras.layers.pooling.MaxPooling2D object at 0x7f25d604f860&gt;</td>\n",
              "      <td>block5_pool</td>\n",
              "      <td>False</td>\n",
              "    </tr>\n",
              "    <tr>\n",
              "      <th>19</th>\n",
              "      <td>&lt;tensorflow.python.keras.layers.core.Flatten object at 0x7f25d604f278&gt;</td>\n",
              "      <td>flatten</td>\n",
              "      <td>False</td>\n",
              "    </tr>\n",
              "  </tbody>\n",
              "</table>\n",
              "</div>"
            ],
            "text/plain": [
              "                                                                          Layer Type  ... Layer Trainable\n",
              "0   <tensorflow.python.keras.engine.input_layer.InputLayer object at 0x7f262f54f5f8>  ...  False         \n",
              "1   <tensorflow.python.keras.layers.convolutional.Conv2D object at 0x7f262f2c1c88>    ...  False         \n",
              "2   <tensorflow.python.keras.layers.convolutional.Conv2D object at 0x7f262ea6def0>    ...  False         \n",
              "3   <tensorflow.python.keras.layers.pooling.MaxPooling2D object at 0x7f262ea4be48>    ...  False         \n",
              "4   <tensorflow.python.keras.layers.convolutional.Conv2D object at 0x7f262ea53f98>    ...  False         \n",
              "5   <tensorflow.python.keras.layers.convolutional.Conv2D object at 0x7f262ea59d30>    ...  False         \n",
              "6   <tensorflow.python.keras.layers.pooling.MaxPooling2D object at 0x7f262ea597b8>    ...  False         \n",
              "7   <tensorflow.python.keras.layers.convolutional.Conv2D object at 0x7f262ea66390>    ...  False         \n",
              "8   <tensorflow.python.keras.layers.convolutional.Conv2D object at 0x7f25d6022320>    ...  False         \n",
              "9   <tensorflow.python.keras.layers.convolutional.Conv2D object at 0x7f262ea66c88>    ...  False         \n",
              "10  <tensorflow.python.keras.layers.pooling.MaxPooling2D object at 0x7f25d602aeb8>    ...  False         \n",
              "11  <tensorflow.python.keras.layers.convolutional.Conv2D object at 0x7f25d6030c88>    ...  False         \n",
              "12  <tensorflow.python.keras.layers.convolutional.Conv2D object at 0x7f25d6036eb8>    ...  False         \n",
              "13  <tensorflow.python.keras.layers.convolutional.Conv2D object at 0x7f25d60309e8>    ...  False         \n",
              "14  <tensorflow.python.keras.layers.pooling.MaxPooling2D object at 0x7f25d603fac8>    ...  False         \n",
              "15  <tensorflow.python.keras.layers.convolutional.Conv2D object at 0x7f25d6042a20>    ...  False         \n",
              "16  <tensorflow.python.keras.layers.convolutional.Conv2D object at 0x7f25d6042080>    ...  False         \n",
              "17  <tensorflow.python.keras.layers.convolutional.Conv2D object at 0x7f25d6030898>    ...  False         \n",
              "18  <tensorflow.python.keras.layers.pooling.MaxPooling2D object at 0x7f25d604f860>    ...  False         \n",
              "19  <tensorflow.python.keras.layers.core.Flatten object at 0x7f25d604f278>            ...  False         \n",
              "\n",
              "[20 rows x 3 columns]"
            ]
          },
          "metadata": {
            "tags": []
          },
          "execution_count": 11
        }
      ]
    },
    {
      "cell_type": "code",
      "metadata": {
        "id": "OvJvrtrgA3ja",
        "colab": {
          "base_uri": "https://localhost:8080/"
        },
        "outputId": "8cfc0c2c-a66f-448e-863c-e30193456413"
      },
      "source": [
        "print(\"Trainable layers:\", vgg_model.trainable_weights)"
      ],
      "execution_count": 12,
      "outputs": [
        {
          "output_type": "stream",
          "text": [
            "Trainable layers: []\n"
          ],
          "name": "stdout"
        }
      ]
    },
    {
      "cell_type": "code",
      "metadata": {
        "id": "J_Zbyst4A3ja",
        "colab": {
          "base_uri": "https://localhost:8080/",
          "height": 304
        },
        "outputId": "1dba34d8-9789-4086-834c-5af214deec3c"
      },
      "source": [
        "bottleneck_feature_example = vgg.predict(train_imgs_scaled[0:1])\n",
        "print(bottleneck_feature_example.shape)\n",
        "plt.imshow(bottleneck_feature_example[0][:,:,0])"
      ],
      "execution_count": 13,
      "outputs": [
        {
          "output_type": "stream",
          "text": [
            "(1, 4, 4, 512)\n"
          ],
          "name": "stdout"
        },
        {
          "output_type": "execute_result",
          "data": {
            "text/plain": [
              "<matplotlib.image.AxesImage at 0x7f25cfffb668>"
            ]
          },
          "metadata": {
            "tags": []
          },
          "execution_count": 13
        },
        {
          "output_type": "display_data",
          "data": {
            "image/png": "[encoded data removed]",
            "text/plain": [
              "<Figure size 432x288 with 1 Axes>"
            ]
          },
          "metadata": {
            "tags": [],
            "needs_background": "light"
          }
        }
      ]
    },
    {
      "cell_type": "code",
      "metadata": {
        "id": "_8LY2OOaA3jb"
      },
      "source": [
        "def get_bottleneck_features(model, input_imgs):\n",
        "    \n",
        "    features = model.predict(input_imgs, verbose=0)\n",
        "    return features"
      ],
      "execution_count": 14,
      "outputs": []
    },
    {
      "cell_type": "code",
      "metadata": {
        "id": "8sekjWocA3jb",
        "colab": {
          "base_uri": "https://localhost:8080/"
        },
        "outputId": "6bd5a995-31b9-491d-8ac9-60eee8dda776"
      },
      "source": [
        "train_features_vgg = get_bottleneck_features(vgg_model, train_imgs_scaled)\n",
        "validation_features_vgg = get_bottleneck_features(vgg_model, validation_imgs_scaled)\n",
        "\n",
        "print('Train Bottleneck Features:', train_features_vgg.shape, \n",
        "      '\\tValidation Bottleneck Features:', validation_features_vgg.shape)"
      ],
      "execution_count": 15,
      "outputs": [
        {
          "output_type": "stream",
          "text": [
            "Train Bottleneck Features: (1275, 8192) \tValidation Bottleneck Features: (364, 8192)\n"
          ],
          "name": "stdout"
        }
      ]
    },
    {
      "cell_type": "code",
      "metadata": {
        "id": "unerLhrzF2HL"
      },
      "source": [
        ""
      ],
      "execution_count": null,
      "outputs": []
    },
    {
      "cell_type": "code",
      "metadata": {
        "id": "qyFijnDhGBjn",
        "colab": {
          "base_uri": "https://localhost:8080/"
        },
        "outputId": "a0fc2291-2d64-404f-c3d0-82c961c5921f"
      },
      "source": [
        "from tensorflow.keras.layers import Conv2D, MaxPooling2D, Flatten, Dense, Dropout, InputLayer\r\n",
        "from tensorflow.keras.models import Sequential\r\n",
        "from tensorflow.keras import optimizers\r\n",
        "\r\n",
        "model = Sequential()\r\n",
        "model.add(vgg_model)\r\n",
        "model.add(Dense(512, activation='relu', input_dim=input_shape))\r\n",
        "model.add(Dropout(0.3))\r\n",
        "model.add(Dense(64, activation='relu'))\r\n",
        "model.add(Dropout(0.3))\r\n",
        "model.add(Dense(1, activation='sigmoid'))\r\n",
        "\r\n",
        "model.compile(loss='binary_crossentropy',\r\n",
        "              optimizer=optimizers.RMSprop(lr=2e-5),\r\n",
        "              metrics=['accuracy'])\r\n",
        "\r\n",
        "model.summary()"
      ],
      "execution_count": 17,
      "outputs": [
        {
          "output_type": "stream",
          "text": [
            "Model: \"sequential_1\"\n",
            "_________________________________________________________________\n",
            "Layer (type)                 Output Shape              Param #   \n",
            "=================================================================\n",
            "model (Functional)           (None, 8192)              14714688  \n",
            "_________________________________________________________________\n",
            "dense_3 (Dense)              (None, 512)               4194816   \n",
            "_________________________________________________________________\n",
            "dropout_2 (Dropout)          (None, 512)               0         \n",
            "_________________________________________________________________\n",
            "dense_4 (Dense)              (None, 64)                32832     \n",
            "_________________________________________________________________\n",
            "dropout_3 (Dropout)          (None, 64)                0         \n",
            "_________________________________________________________________\n",
            "dense_5 (Dense)              (None, 1)                 65        \n",
            "=================================================================\n",
            "Total params: 18,942,401\n",
            "Trainable params: 4,227,713\n",
            "Non-trainable params: 14,714,688\n",
            "_________________________________________________________________\n"
          ],
          "name": "stdout"
        }
      ]
    },
    {
      "cell_type": "code",
      "metadata": {
        "id": "UV-VPb-lA3jc",
        "colab": {
          "base_uri": "https://localhost:8080/"
        },
        "outputId": "2632ba08-b90e-46f2-987b-78ed0c131c9e"
      },
      "source": [
        "history = model.fit_generator(train_generator,  epochs=epochs,\r\n",
        "                              validation_data=val_generator,  verbose=1)"
      ],
      "execution_count": 19,
      "outputs": [
        {
          "output_type": "stream",
          "text": [
            "/usr/local/lib/python3.6/dist-packages/tensorflow/python/keras/engine/training.py:1844: UserWarning: `Model.fit_generator` is deprecated and will be removed in a future version. Please use `Model.fit`, which supports generators.\n",
            "  warnings.warn('`Model.fit_generator` is deprecated and '\n"
          ],
          "name": "stderr"
        },
        {
          "output_type": "stream",
          "text": [
            "Epoch 1/150\n",
            "43/43 [==============================] - 9s 216ms/step - loss: 3.0990 - accuracy: 0.6408 - val_loss: 1.1547 - val_accuracy: 0.8049\n",
            "Epoch 2/150\n",
            "43/43 [==============================] - 8s 175ms/step - loss: 2.3116 - accuracy: 0.7106 - val_loss: 1.0124 - val_accuracy: 0.8462\n",
            "Epoch 3/150\n",
            "43/43 [==============================] - 8s 175ms/step - loss: 1.6529 - accuracy: 0.7506 - val_loss: 0.8030 - val_accuracy: 0.8599\n",
            "Epoch 4/150\n",
            "43/43 [==============================] - 8s 177ms/step - loss: 1.4369 - accuracy: 0.7561 - val_loss: 0.7839 - val_accuracy: 0.8544\n",
            "Epoch 5/150\n",
            "43/43 [==============================] - 8s 178ms/step - loss: 1.1598 - accuracy: 0.7882 - val_loss: 0.6250 - val_accuracy: 0.8736\n",
            "Epoch 6/150\n",
            "43/43 [==============================] - 8s 179ms/step - loss: 1.1313 - accuracy: 0.7890 - val_loss: 0.5958 - val_accuracy: 0.8709\n",
            "Epoch 7/150\n",
            "43/43 [==============================] - 8s 177ms/step - loss: 0.9704 - accuracy: 0.7929 - val_loss: 0.5123 - val_accuracy: 0.8764\n",
            "Epoch 8/150\n",
            "43/43 [==============================] - 8s 177ms/step - loss: 0.8317 - accuracy: 0.8110 - val_loss: 0.4972 - val_accuracy: 0.8709\n",
            "Epoch 9/150\n",
            "43/43 [==============================] - 8s 178ms/step - loss: 0.8146 - accuracy: 0.8039 - val_loss: 0.4400 - val_accuracy: 0.8874\n",
            "Epoch 10/150\n",
            "43/43 [==============================] - 8s 177ms/step - loss: 0.7602 - accuracy: 0.8118 - val_loss: 0.4162 - val_accuracy: 0.8929\n",
            "Epoch 11/150\n",
            "43/43 [==============================] - 8s 178ms/step - loss: 0.7527 - accuracy: 0.8220 - val_loss: 0.3825 - val_accuracy: 0.8956\n",
            "Epoch 12/150\n",
            "43/43 [==============================] - 8s 179ms/step - loss: 0.6588 - accuracy: 0.8314 - val_loss: 0.3842 - val_accuracy: 0.8984\n",
            "Epoch 13/150\n",
            "43/43 [==============================] - 8s 178ms/step - loss: 0.5995 - accuracy: 0.8322 - val_loss: 0.3771 - val_accuracy: 0.8901\n",
            "Epoch 14/150\n",
            "43/43 [==============================] - 8s 179ms/step - loss: 0.5392 - accuracy: 0.8392 - val_loss: 0.3552 - val_accuracy: 0.9066\n",
            "Epoch 15/150\n",
            "43/43 [==============================] - 8s 178ms/step - loss: 0.5700 - accuracy: 0.8353 - val_loss: 0.3421 - val_accuracy: 0.8956\n",
            "Epoch 16/150\n",
            "43/43 [==============================] - 8s 180ms/step - loss: 0.5699 - accuracy: 0.8267 - val_loss: 0.3191 - val_accuracy: 0.8956\n",
            "Epoch 17/150\n",
            "43/43 [==============================] - 8s 179ms/step - loss: 0.5354 - accuracy: 0.8424 - val_loss: 0.3092 - val_accuracy: 0.8984\n",
            "Epoch 18/150\n",
            "43/43 [==============================] - 8s 180ms/step - loss: 0.6028 - accuracy: 0.8204 - val_loss: 0.2903 - val_accuracy: 0.9066\n",
            "Epoch 19/150\n",
            "43/43 [==============================] - 8s 179ms/step - loss: 0.4616 - accuracy: 0.8549 - val_loss: 0.2781 - val_accuracy: 0.9093\n",
            "Epoch 20/150\n",
            "43/43 [==============================] - 8s 180ms/step - loss: 0.4758 - accuracy: 0.8494 - val_loss: 0.2728 - val_accuracy: 0.9011\n",
            "Epoch 21/150\n",
            "43/43 [==============================] - 8s 180ms/step - loss: 0.4812 - accuracy: 0.8494 - val_loss: 0.2766 - val_accuracy: 0.9038\n",
            "Epoch 22/150\n",
            "43/43 [==============================] - 8s 179ms/step - loss: 0.4685 - accuracy: 0.8471 - val_loss: 0.2745 - val_accuracy: 0.9011\n",
            "Epoch 23/150\n",
            "43/43 [==============================] - 8s 178ms/step - loss: 0.4995 - accuracy: 0.8400 - val_loss: 0.2770 - val_accuracy: 0.9011\n",
            "Epoch 24/150\n",
            "43/43 [==============================] - 8s 179ms/step - loss: 0.4076 - accuracy: 0.8471 - val_loss: 0.2815 - val_accuracy: 0.8984\n",
            "Epoch 25/150\n",
            "43/43 [==============================] - 8s 179ms/step - loss: 0.4058 - accuracy: 0.8565 - val_loss: 0.2682 - val_accuracy: 0.8929\n",
            "Epoch 26/150\n",
            "43/43 [==============================] - 8s 180ms/step - loss: 0.4425 - accuracy: 0.8369 - val_loss: 0.2662 - val_accuracy: 0.9038\n",
            "Epoch 27/150\n",
            "43/43 [==============================] - 8s 180ms/step - loss: 0.3890 - accuracy: 0.8518 - val_loss: 0.2822 - val_accuracy: 0.8984\n",
            "Epoch 28/150\n",
            "43/43 [==============================] - 8s 179ms/step - loss: 0.3990 - accuracy: 0.8651 - val_loss: 0.2721 - val_accuracy: 0.9038\n",
            "Epoch 29/150\n",
            "43/43 [==============================] - 8s 180ms/step - loss: 0.3878 - accuracy: 0.8698 - val_loss: 0.2605 - val_accuracy: 0.9011\n",
            "Epoch 30/150\n",
            "43/43 [==============================] - 8s 179ms/step - loss: 0.3790 - accuracy: 0.8667 - val_loss: 0.2601 - val_accuracy: 0.9038\n",
            "Epoch 31/150\n",
            "43/43 [==============================] - 8s 178ms/step - loss: 0.3598 - accuracy: 0.8643 - val_loss: 0.2676 - val_accuracy: 0.9038\n",
            "Epoch 32/150\n",
            "43/43 [==============================] - 8s 180ms/step - loss: 0.3877 - accuracy: 0.8620 - val_loss: 0.2568 - val_accuracy: 0.9038\n",
            "Epoch 33/150\n",
            "43/43 [==============================] - 8s 179ms/step - loss: 0.4249 - accuracy: 0.8706 - val_loss: 0.2530 - val_accuracy: 0.9038\n",
            "Epoch 34/150\n",
            "43/43 [==============================] - 8s 179ms/step - loss: 0.4005 - accuracy: 0.8565 - val_loss: 0.2486 - val_accuracy: 0.9066\n",
            "Epoch 35/150\n",
            "43/43 [==============================] - 8s 178ms/step - loss: 0.3757 - accuracy: 0.8745 - val_loss: 0.2536 - val_accuracy: 0.9038\n",
            "Epoch 36/150\n",
            "43/43 [==============================] - 8s 180ms/step - loss: 0.3641 - accuracy: 0.8761 - val_loss: 0.2566 - val_accuracy: 0.9121\n",
            "Epoch 37/150\n",
            "43/43 [==============================] - 8s 182ms/step - loss: 0.3476 - accuracy: 0.8604 - val_loss: 0.2493 - val_accuracy: 0.9121\n",
            "Epoch 38/150\n",
            "43/43 [==============================] - 8s 179ms/step - loss: 0.3513 - accuracy: 0.8659 - val_loss: 0.2478 - val_accuracy: 0.9148\n",
            "Epoch 39/150\n",
            "43/43 [==============================] - 8s 179ms/step - loss: 0.3369 - accuracy: 0.8761 - val_loss: 0.2526 - val_accuracy: 0.9148\n",
            "Epoch 40/150\n",
            "43/43 [==============================] - 8s 183ms/step - loss: 0.3274 - accuracy: 0.8847 - val_loss: 0.2559 - val_accuracy: 0.9148\n",
            "Epoch 41/150\n",
            "43/43 [==============================] - 8s 180ms/step - loss: 0.3677 - accuracy: 0.8753 - val_loss: 0.2531 - val_accuracy: 0.9148\n",
            "Epoch 42/150\n",
            "43/43 [==============================] - 8s 179ms/step - loss: 0.3804 - accuracy: 0.8871 - val_loss: 0.2497 - val_accuracy: 0.9148\n",
            "Epoch 43/150\n",
            "43/43 [==============================] - 8s 180ms/step - loss: 0.3105 - accuracy: 0.8769 - val_loss: 0.2448 - val_accuracy: 0.9121\n",
            "Epoch 44/150\n",
            "43/43 [==============================] - 8s 183ms/step - loss: 0.3209 - accuracy: 0.8753 - val_loss: 0.2363 - val_accuracy: 0.9121\n",
            "Epoch 45/150\n",
            "43/43 [==============================] - 8s 179ms/step - loss: 0.3567 - accuracy: 0.8761 - val_loss: 0.2402 - val_accuracy: 0.9203\n",
            "Epoch 46/150\n",
            "43/43 [==============================] - 8s 179ms/step - loss: 0.2937 - accuracy: 0.8863 - val_loss: 0.2402 - val_accuracy: 0.9148\n",
            "Epoch 47/150\n",
            "43/43 [==============================] - 8s 180ms/step - loss: 0.3016 - accuracy: 0.8808 - val_loss: 0.2465 - val_accuracy: 0.9176\n",
            "Epoch 48/150\n",
            "43/43 [==============================] - 8s 180ms/step - loss: 0.3316 - accuracy: 0.8776 - val_loss: 0.2493 - val_accuracy: 0.9176\n",
            "Epoch 49/150\n",
            "43/43 [==============================] - 8s 179ms/step - loss: 0.3390 - accuracy: 0.8824 - val_loss: 0.2398 - val_accuracy: 0.9148\n",
            "Epoch 50/150\n",
            "43/43 [==============================] - 8s 178ms/step - loss: 0.2991 - accuracy: 0.8839 - val_loss: 0.2395 - val_accuracy: 0.9176\n",
            "Epoch 51/150\n",
            "43/43 [==============================] - 8s 178ms/step - loss: 0.2646 - accuracy: 0.8824 - val_loss: 0.2384 - val_accuracy: 0.9203\n",
            "Epoch 52/150\n",
            "43/43 [==============================] - 8s 178ms/step - loss: 0.2693 - accuracy: 0.8878 - val_loss: 0.2402 - val_accuracy: 0.9176\n",
            "Epoch 53/150\n",
            "43/43 [==============================] - 8s 179ms/step - loss: 0.3356 - accuracy: 0.8847 - val_loss: 0.2393 - val_accuracy: 0.9176\n",
            "Epoch 54/150\n",
            "43/43 [==============================] - 8s 178ms/step - loss: 0.2854 - accuracy: 0.9027 - val_loss: 0.2381 - val_accuracy: 0.9176\n",
            "Epoch 55/150\n",
            "43/43 [==============================] - 8s 179ms/step - loss: 0.3134 - accuracy: 0.8941 - val_loss: 0.2434 - val_accuracy: 0.9148\n",
            "Epoch 56/150\n",
            "43/43 [==============================] - 8s 178ms/step - loss: 0.3103 - accuracy: 0.8878 - val_loss: 0.2505 - val_accuracy: 0.9148\n",
            "Epoch 57/150\n",
            "43/43 [==============================] - 8s 179ms/step - loss: 0.2830 - accuracy: 0.8941 - val_loss: 0.2539 - val_accuracy: 0.9148\n",
            "Epoch 58/150\n",
            "43/43 [==============================] - 8s 180ms/step - loss: 0.3143 - accuracy: 0.8871 - val_loss: 0.2435 - val_accuracy: 0.9093\n",
            "Epoch 59/150\n",
            "43/43 [==============================] - 8s 179ms/step - loss: 0.2742 - accuracy: 0.8847 - val_loss: 0.2428 - val_accuracy: 0.9148\n",
            "Epoch 60/150\n",
            "43/43 [==============================] - 8s 178ms/step - loss: 0.2739 - accuracy: 0.8808 - val_loss: 0.2361 - val_accuracy: 0.9148\n",
            "Epoch 61/150\n",
            "43/43 [==============================] - 8s 177ms/step - loss: 0.2668 - accuracy: 0.8878 - val_loss: 0.2359 - val_accuracy: 0.9176\n",
            "Epoch 62/150\n",
            "43/43 [==============================] - 8s 179ms/step - loss: 0.2904 - accuracy: 0.8941 - val_loss: 0.2424 - val_accuracy: 0.9203\n",
            "Epoch 63/150\n",
            "43/43 [==============================] - 8s 180ms/step - loss: 0.2899 - accuracy: 0.8925 - val_loss: 0.2430 - val_accuracy: 0.9176\n",
            "Epoch 64/150\n",
            "43/43 [==============================] - 8s 179ms/step - loss: 0.2903 - accuracy: 0.8902 - val_loss: 0.2488 - val_accuracy: 0.9203\n",
            "Epoch 65/150\n",
            "43/43 [==============================] - 8s 179ms/step - loss: 0.3133 - accuracy: 0.8824 - val_loss: 0.2504 - val_accuracy: 0.9176\n",
            "Epoch 66/150\n",
            "43/43 [==============================] - 8s 179ms/step - loss: 0.2668 - accuracy: 0.9067 - val_loss: 0.2462 - val_accuracy: 0.9121\n",
            "Epoch 67/150\n",
            "43/43 [==============================] - 8s 179ms/step - loss: 0.3261 - accuracy: 0.8784 - val_loss: 0.2517 - val_accuracy: 0.9176\n",
            "Epoch 68/150\n",
            "43/43 [==============================] - 8s 179ms/step - loss: 0.3110 - accuracy: 0.8816 - val_loss: 0.2492 - val_accuracy: 0.9176\n",
            "Epoch 69/150\n",
            "43/43 [==============================] - 8s 180ms/step - loss: 0.2719 - accuracy: 0.8973 - val_loss: 0.2550 - val_accuracy: 0.9203\n",
            "Epoch 70/150\n",
            "43/43 [==============================] - 8s 179ms/step - loss: 0.2457 - accuracy: 0.9027 - val_loss: 0.2696 - val_accuracy: 0.9176\n",
            "Epoch 71/150\n",
            "43/43 [==============================] - 8s 179ms/step - loss: 0.2356 - accuracy: 0.9004 - val_loss: 0.2842 - val_accuracy: 0.9176\n",
            "Epoch 72/150\n",
            "43/43 [==============================] - 8s 178ms/step - loss: 0.3018 - accuracy: 0.8988 - val_loss: 0.2766 - val_accuracy: 0.9176\n",
            "Epoch 73/150\n",
            "43/43 [==============================] - 8s 180ms/step - loss: 0.3070 - accuracy: 0.8910 - val_loss: 0.2734 - val_accuracy: 0.9176\n",
            "Epoch 74/150\n",
            "43/43 [==============================] - 8s 179ms/step - loss: 0.2760 - accuracy: 0.9012 - val_loss: 0.2755 - val_accuracy: 0.9176\n",
            "Epoch 75/150\n",
            "43/43 [==============================] - 8s 179ms/step - loss: 0.3013 - accuracy: 0.9043 - val_loss: 0.2702 - val_accuracy: 0.9176\n",
            "Epoch 76/150\n",
            "43/43 [==============================] - 8s 179ms/step - loss: 0.2589 - accuracy: 0.9020 - val_loss: 0.2645 - val_accuracy: 0.9176\n",
            "Epoch 77/150\n",
            "43/43 [==============================] - 8s 179ms/step - loss: 0.2456 - accuracy: 0.9067 - val_loss: 0.2726 - val_accuracy: 0.9203\n",
            "Epoch 78/150\n",
            "43/43 [==============================] - 8s 179ms/step - loss: 0.2997 - accuracy: 0.8941 - val_loss: 0.2555 - val_accuracy: 0.9176\n",
            "Epoch 79/150\n",
            "43/43 [==============================] - 8s 181ms/step - loss: 0.2629 - accuracy: 0.8941 - val_loss: 0.2638 - val_accuracy: 0.9176\n",
            "Epoch 80/150\n",
            "43/43 [==============================] - 8s 180ms/step - loss: 0.2572 - accuracy: 0.9067 - val_loss: 0.2680 - val_accuracy: 0.9121\n",
            "Epoch 81/150\n",
            "43/43 [==============================] - 8s 179ms/step - loss: 0.2611 - accuracy: 0.9153 - val_loss: 0.2751 - val_accuracy: 0.9148\n",
            "Epoch 82/150\n",
            "43/43 [==============================] - 8s 179ms/step - loss: 0.2791 - accuracy: 0.9075 - val_loss: 0.2803 - val_accuracy: 0.9148\n",
            "Epoch 83/150\n",
            "43/43 [==============================] - 8s 180ms/step - loss: 0.2690 - accuracy: 0.9122 - val_loss: 0.2853 - val_accuracy: 0.9148\n",
            "Epoch 84/150\n",
            "43/43 [==============================] - 8s 179ms/step - loss: 0.2333 - accuracy: 0.9067 - val_loss: 0.2798 - val_accuracy: 0.9093\n",
            "Epoch 85/150\n",
            "43/43 [==============================] - 8s 178ms/step - loss: 0.2931 - accuracy: 0.9004 - val_loss: 0.3024 - val_accuracy: 0.9148\n",
            "Epoch 86/150\n",
            "43/43 [==============================] - 8s 179ms/step - loss: 0.2981 - accuracy: 0.8988 - val_loss: 0.2854 - val_accuracy: 0.9121\n",
            "Epoch 87/150\n",
            "43/43 [==============================] - 8s 178ms/step - loss: 0.2392 - accuracy: 0.8996 - val_loss: 0.2772 - val_accuracy: 0.9093\n",
            "Epoch 88/150\n",
            "43/43 [==============================] - 8s 178ms/step - loss: 0.2199 - accuracy: 0.9239 - val_loss: 0.2828 - val_accuracy: 0.9093\n",
            "Epoch 89/150\n",
            "43/43 [==============================] - 8s 180ms/step - loss: 0.2480 - accuracy: 0.9035 - val_loss: 0.2905 - val_accuracy: 0.9121\n",
            "Epoch 90/150\n",
            "43/43 [==============================] - 8s 179ms/step - loss: 0.2729 - accuracy: 0.9043 - val_loss: 0.2800 - val_accuracy: 0.9121\n",
            "Epoch 91/150\n",
            "43/43 [==============================] - 8s 179ms/step - loss: 0.2615 - accuracy: 0.9129 - val_loss: 0.2803 - val_accuracy: 0.9121\n",
            "Epoch 92/150\n",
            "43/43 [==============================] - 8s 178ms/step - loss: 0.2824 - accuracy: 0.9043 - val_loss: 0.2694 - val_accuracy: 0.9121\n",
            "Epoch 93/150\n",
            "43/43 [==============================] - 8s 178ms/step - loss: 0.2386 - accuracy: 0.9059 - val_loss: 0.2711 - val_accuracy: 0.9093\n",
            "Epoch 94/150\n",
            "43/43 [==============================] - 8s 180ms/step - loss: 0.2563 - accuracy: 0.9004 - val_loss: 0.2804 - val_accuracy: 0.9121\n",
            "Epoch 95/150\n",
            "43/43 [==============================] - 8s 178ms/step - loss: 0.2466 - accuracy: 0.9035 - val_loss: 0.2819 - val_accuracy: 0.9148\n",
            "Epoch 96/150\n",
            "43/43 [==============================] - 8s 179ms/step - loss: 0.2366 - accuracy: 0.9059 - val_loss: 0.2895 - val_accuracy: 0.9093\n",
            "Epoch 97/150\n",
            "43/43 [==============================] - 8s 182ms/step - loss: 0.2199 - accuracy: 0.9129 - val_loss: 0.2984 - val_accuracy: 0.9121\n",
            "Epoch 98/150\n",
            "43/43 [==============================] - 8s 180ms/step - loss: 0.2464 - accuracy: 0.9035 - val_loss: 0.2947 - val_accuracy: 0.9121\n",
            "Epoch 99/150\n",
            "43/43 [==============================] - 8s 180ms/step - loss: 0.2680 - accuracy: 0.9153 - val_loss: 0.2912 - val_accuracy: 0.9093\n",
            "Epoch 100/150\n",
            "43/43 [==============================] - 8s 179ms/step - loss: 0.2347 - accuracy: 0.9106 - val_loss: 0.2896 - val_accuracy: 0.9121\n",
            "Epoch 101/150\n",
            "43/43 [==============================] - 8s 178ms/step - loss: 0.2497 - accuracy: 0.9075 - val_loss: 0.2995 - val_accuracy: 0.9066\n",
            "Epoch 102/150\n",
            "43/43 [==============================] - 8s 179ms/step - loss: 0.2469 - accuracy: 0.9027 - val_loss: 0.2971 - val_accuracy: 0.9093\n",
            "Epoch 103/150\n",
            "43/43 [==============================] - 8s 178ms/step - loss: 0.2462 - accuracy: 0.9090 - val_loss: 0.2962 - val_accuracy: 0.9011\n",
            "Epoch 104/150\n",
            "43/43 [==============================] - 8s 178ms/step - loss: 0.2630 - accuracy: 0.9082 - val_loss: 0.2919 - val_accuracy: 0.9038\n",
            "Epoch 105/150\n",
            "43/43 [==============================] - 8s 179ms/step - loss: 0.2408 - accuracy: 0.9208 - val_loss: 0.2847 - val_accuracy: 0.9093\n",
            "Epoch 106/150\n",
            "43/43 [==============================] - 8s 180ms/step - loss: 0.2391 - accuracy: 0.9114 - val_loss: 0.2954 - val_accuracy: 0.9121\n",
            "Epoch 107/150\n",
            "43/43 [==============================] - 8s 179ms/step - loss: 0.2527 - accuracy: 0.9027 - val_loss: 0.2831 - val_accuracy: 0.9121\n",
            "Epoch 108/150\n",
            "43/43 [==============================] - 8s 178ms/step - loss: 0.2407 - accuracy: 0.9090 - val_loss: 0.2826 - val_accuracy: 0.9176\n",
            "Epoch 109/150\n",
            "43/43 [==============================] - 8s 179ms/step - loss: 0.2555 - accuracy: 0.9145 - val_loss: 0.2911 - val_accuracy: 0.9176\n",
            "Epoch 110/150\n",
            "43/43 [==============================] - 8s 181ms/step - loss: 0.2226 - accuracy: 0.9184 - val_loss: 0.2816 - val_accuracy: 0.9121\n",
            "Epoch 111/150\n",
            "43/43 [==============================] - 8s 179ms/step - loss: 0.2349 - accuracy: 0.9184 - val_loss: 0.2937 - val_accuracy: 0.9148\n",
            "Epoch 112/150\n",
            "43/43 [==============================] - 8s 178ms/step - loss: 0.2133 - accuracy: 0.9122 - val_loss: 0.3074 - val_accuracy: 0.9148\n",
            "Epoch 113/150\n",
            "43/43 [==============================] - 8s 179ms/step - loss: 0.2343 - accuracy: 0.9184 - val_loss: 0.3075 - val_accuracy: 0.9121\n",
            "Epoch 114/150\n",
            "43/43 [==============================] - 8s 178ms/step - loss: 0.2829 - accuracy: 0.9004 - val_loss: 0.3132 - val_accuracy: 0.9093\n",
            "Epoch 115/150\n",
            "43/43 [==============================] - 8s 178ms/step - loss: 0.2553 - accuracy: 0.9137 - val_loss: 0.3131 - val_accuracy: 0.9121\n",
            "Epoch 116/150\n",
            "43/43 [==============================] - 8s 178ms/step - loss: 0.2944 - accuracy: 0.9004 - val_loss: 0.3030 - val_accuracy: 0.9093\n",
            "Epoch 117/150\n",
            "43/43 [==============================] - 8s 179ms/step - loss: 0.2064 - accuracy: 0.9153 - val_loss: 0.3087 - val_accuracy: 0.9121\n",
            "Epoch 118/150\n",
            "43/43 [==============================] - 8s 180ms/step - loss: 0.2561 - accuracy: 0.9059 - val_loss: 0.3079 - val_accuracy: 0.9093\n",
            "Epoch 119/150\n",
            "43/43 [==============================] - 8s 179ms/step - loss: 0.2582 - accuracy: 0.9137 - val_loss: 0.3148 - val_accuracy: 0.9038\n",
            "Epoch 120/150\n",
            "43/43 [==============================] - 8s 182ms/step - loss: 0.2435 - accuracy: 0.9231 - val_loss: 0.3125 - val_accuracy: 0.9011\n",
            "Epoch 121/150\n",
            "43/43 [==============================] - 8s 181ms/step - loss: 0.1965 - accuracy: 0.9153 - val_loss: 0.3156 - val_accuracy: 0.9121\n",
            "Epoch 122/150\n",
            "43/43 [==============================] - 8s 180ms/step - loss: 0.1962 - accuracy: 0.9216 - val_loss: 0.3255 - val_accuracy: 0.9121\n",
            "Epoch 123/150\n",
            "43/43 [==============================] - 8s 181ms/step - loss: 0.2380 - accuracy: 0.9247 - val_loss: 0.3383 - val_accuracy: 0.9066\n",
            "Epoch 124/150\n",
            "43/43 [==============================] - 8s 178ms/step - loss: 0.2400 - accuracy: 0.9208 - val_loss: 0.3446 - val_accuracy: 0.9066\n",
            "Epoch 125/150\n",
            "43/43 [==============================] - 8s 178ms/step - loss: 0.2162 - accuracy: 0.9208 - val_loss: 0.3624 - val_accuracy: 0.9093\n",
            "Epoch 126/150\n",
            "43/43 [==============================] - 8s 179ms/step - loss: 0.2032 - accuracy: 0.9231 - val_loss: 0.3672 - val_accuracy: 0.9121\n",
            "Epoch 127/150\n",
            "43/43 [==============================] - 8s 179ms/step - loss: 0.2001 - accuracy: 0.9247 - val_loss: 0.3423 - val_accuracy: 0.9093\n",
            "Epoch 128/150\n",
            "43/43 [==============================] - 8s 179ms/step - loss: 0.2285 - accuracy: 0.9145 - val_loss: 0.3325 - val_accuracy: 0.9148\n",
            "Epoch 129/150\n",
            "43/43 [==============================] - 8s 179ms/step - loss: 0.2116 - accuracy: 0.9176 - val_loss: 0.3423 - val_accuracy: 0.9148\n",
            "Epoch 130/150\n",
            "43/43 [==============================] - 8s 180ms/step - loss: 0.1934 - accuracy: 0.9294 - val_loss: 0.3576 - val_accuracy: 0.9121\n",
            "Epoch 131/150\n",
            "43/43 [==============================] - 8s 180ms/step - loss: 0.2132 - accuracy: 0.9255 - val_loss: 0.3507 - val_accuracy: 0.9148\n",
            "Epoch 132/150\n",
            "43/43 [==============================] - 8s 178ms/step - loss: 0.2045 - accuracy: 0.9208 - val_loss: 0.3354 - val_accuracy: 0.9148\n",
            "Epoch 133/150\n",
            "43/43 [==============================] - 8s 178ms/step - loss: 0.1888 - accuracy: 0.9310 - val_loss: 0.3447 - val_accuracy: 0.9121\n",
            "Epoch 134/150\n",
            "43/43 [==============================] - 8s 178ms/step - loss: 0.2442 - accuracy: 0.9192 - val_loss: 0.3407 - val_accuracy: 0.9148\n",
            "Epoch 135/150\n",
            "43/43 [==============================] - 8s 178ms/step - loss: 0.2215 - accuracy: 0.9286 - val_loss: 0.3495 - val_accuracy: 0.9176\n",
            "Epoch 136/150\n",
            "43/43 [==============================] - 8s 178ms/step - loss: 0.2112 - accuracy: 0.9239 - val_loss: 0.3359 - val_accuracy: 0.9148\n",
            "Epoch 137/150\n",
            "43/43 [==============================] - 8s 179ms/step - loss: 0.2143 - accuracy: 0.9239 - val_loss: 0.3547 - val_accuracy: 0.9093\n",
            "Epoch 138/150\n",
            "43/43 [==============================] - 8s 179ms/step - loss: 0.2043 - accuracy: 0.9247 - val_loss: 0.3695 - val_accuracy: 0.9121\n",
            "Epoch 139/150\n",
            "43/43 [==============================] - 8s 179ms/step - loss: 0.2198 - accuracy: 0.9239 - val_loss: 0.3730 - val_accuracy: 0.9148\n",
            "Epoch 140/150\n",
            "43/43 [==============================] - 8s 182ms/step - loss: 0.2197 - accuracy: 0.9231 - val_loss: 0.3571 - val_accuracy: 0.9093\n",
            "Epoch 141/150\n",
            "43/43 [==============================] - 8s 180ms/step - loss: 0.2115 - accuracy: 0.9263 - val_loss: 0.3513 - val_accuracy: 0.9176\n",
            "Epoch 142/150\n",
            "43/43 [==============================] - 8s 181ms/step - loss: 0.2068 - accuracy: 0.9294 - val_loss: 0.3627 - val_accuracy: 0.9121\n",
            "Epoch 143/150\n",
            "43/43 [==============================] - 8s 179ms/step - loss: 0.2233 - accuracy: 0.9271 - val_loss: 0.3747 - val_accuracy: 0.9093\n",
            "Epoch 144/150\n",
            "43/43 [==============================] - 8s 178ms/step - loss: 0.2341 - accuracy: 0.9278 - val_loss: 0.3722 - val_accuracy: 0.9038\n",
            "Epoch 145/150\n",
            "43/43 [==============================] - 8s 179ms/step - loss: 0.2206 - accuracy: 0.9318 - val_loss: 0.3675 - val_accuracy: 0.9038\n",
            "Epoch 146/150\n",
            "43/43 [==============================] - 8s 180ms/step - loss: 0.2182 - accuracy: 0.9255 - val_loss: 0.3729 - val_accuracy: 0.9066\n",
            "Epoch 147/150\n",
            "43/43 [==============================] - 8s 179ms/step - loss: 0.1989 - accuracy: 0.9271 - val_loss: 0.3737 - val_accuracy: 0.9066\n",
            "Epoch 148/150\n",
            "43/43 [==============================] - 8s 179ms/step - loss: 0.2007 - accuracy: 0.9145 - val_loss: 0.3794 - val_accuracy: 0.9121\n",
            "Epoch 149/150\n",
            "43/43 [==============================] - 8s 179ms/step - loss: 0.1950 - accuracy: 0.9302 - val_loss: 0.3768 - val_accuracy: 0.9093\n",
            "Epoch 150/150\n",
            "43/43 [==============================] - 8s 179ms/step - loss: 0.2213 - accuracy: 0.9278 - val_loss: 0.3848 - val_accuracy: 0.9066\n"
          ],
          "name": "stdout"
        }
      ]
    },
    {
      "cell_type": "code",
      "metadata": {
        "id": "P0Fk-e8wA3jd",
        "colab": {
          "base_uri": "https://localhost:8080/",
          "height": 308
        },
        "outputId": "15cbf078-2bb5-4805-c731-4a7bf452ff54"
      },
      "source": [
        "f, (ax1, ax2) = plt.subplots(1, 2, figsize=(12, 4))\n",
        "t = f.suptitle('Pre-trained CNN (Transfer Learning) Performance', fontsize=12)\n",
        "f.subplots_adjust(top=0.85, wspace=0.3)\n",
        "\n",
        "epoch_list = list(range(1,151))\n",
        "ax1.plot(epoch_list, history.history['accuracy'], label='Train Accuracy')\n",
        "ax1.plot(epoch_list, history.history['val_accuracy'], label='Validation Accuracy')\n",
        "ax1.set_xticks(np.arange(0, 151, 5))\n",
        "ax1.set_ylabel('Accuracy Value')\n",
        "ax1.set_xlabel('Epoch')\n",
        "ax1.set_title('Accuracy')\n",
        "l1 = ax1.legend(loc=\"best\")\n",
        "\n",
        "ax2.plot(epoch_list, history.history['loss'], label='Train Loss')\n",
        "ax2.plot(epoch_list, history.history['val_loss'], label='Validation Loss')\n",
        "ax2.set_xticks(np.arange(0, 151, 5))\n",
        "ax2.set_ylabel('Loss Value')\n",
        "ax2.set_xlabel('Epoch')\n",
        "ax2.set_title('Loss')\n",
        "l2 = ax2.legend(loc=\"best\")"
      ],
      "execution_count": 20,
      "outputs": [
        {
          "output_type": "display_data",
          "data": {
            "image/png": "[encoded data removed]",
            "text/plain": [
              "<Figure size 864x288 with 2 Axes>"
            ]
          },
          "metadata": {
            "tags": [],
            "needs_background": "light"
          }
        }
      ]
    },
    {
      "cell_type": "code",
      "metadata": {
        "id": "wHLV0XfKA3jd"
      },
      "source": [
        "model.save('2_Aug_pretrained_cnn.h5')"
      ],
      "execution_count": 22,
      "outputs": []
    }
  ]
}